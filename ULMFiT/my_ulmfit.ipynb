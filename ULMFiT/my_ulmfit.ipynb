{
 "cells": [
  {
   "cell_type": "markdown",
   "metadata": {},
   "source": [
    "## Imports"
   ]
  },
  {
   "cell_type": "code",
   "execution_count": 1,
   "metadata": {},
   "outputs": [],
   "source": [
    "%reload_ext autoreload\n",
    "%autoreload 2\n",
    "%matplotlib inline"
   ]
  },
  {
   "cell_type": "code",
   "execution_count": 2,
   "metadata": {},
   "outputs": [],
   "source": [
    "from fastai.text import *\n",
    "from fastai.callbacks import SaveModelCallback\n",
    "from fastai.text.models import AWD_LSTM\n",
    "import pandas as pd\n",
    "import pickle\n",
    "import os\n",
    "import random\n",
    "from shutil import copyfile\n",
    "from tqdm import tqdm_notebook as tqdm"
   ]
  },
  {
   "cell_type": "code",
   "execution_count": 5,
   "metadata": {},
   "outputs": [],
   "source": [
    "pickle_in = open(\"data/pickles/vocab.pickle\",\"rb\")\n",
    "vocab = pickle.load(pickle_in)"
   ]
  },
  {
   "cell_type": "code",
   "execution_count": 10,
   "metadata": {},
   "outputs": [
    {
     "name": "stdout",
     "output_type": "stream",
     "text": [
      "60004\n",
      "['xxunk', 'xxpad', 'xxbos', 'xxeos', 'xxfld', 'xxmaj', 'xxup', 'xxrep', 'xxwrep', '.']\n"
     ]
    }
   ],
   "source": [
    "print(len(vocab.itos))\n",
    "print(vocab.itos[:10])"
   ]
  },
  {
   "cell_type": "markdown",
   "metadata": {},
   "source": [
    "## Preparing the data for pre-training the Language Model"
   ]
  },
  {
   "cell_type": "code",
   "execution_count": 4,
   "metadata": {},
   "outputs": [
    {
     "data": {
      "text/plain": [
       "[WindowsPath('data/all_data'),\n",
       " WindowsPath('data/models'),\n",
       " WindowsPath('data/pickles'),\n",
       " WindowsPath('data/test'),\n",
       " WindowsPath('data/train_all'),\n",
       " WindowsPath('data/unsup'),\n",
       " WindowsPath('data/urls.txt')]"
      ]
     },
     "execution_count": 4,
     "metadata": {},
     "output_type": "execute_result"
    }
   ],
   "source": [
    "path = Path('data/') # saves the location of all data\n",
    "path.ls() # shows folders in path"
   ]
  },
  {
   "cell_type": "code",
   "execution_count": 12,
   "metadata": {},
   "outputs": [],
   "source": [
    "bs=3 # GPUs with more CUDA memory can learn faster with a larger batch size."
   ]
  },
  {
   "cell_type": "markdown",
   "metadata": {},
   "source": [
    "The data to improve the Wikipedia-trained LM (language model) is taken from 3 sources: the training data, the testing data and the unlabeled data. A randomly chosen 10% of this union is used as a validation set. For the 110kDBRD dataset, this amounts to 10,000 reviews in the validation set."
   ]
  },
  {
   "cell_type": "code",
   "execution_count": 13,
   "metadata": {},
   "outputs": [],
   "source": [
    "lm_not_loaded_before = False \n",
    "\n",
    "if lm_not_loaded_before:\n",
    "    data_lm = (TextList.from_folder(\"data/\")\n",
    "                .filter_by_folder(include=['train_all', 'test', 'unsup'])\n",
    "                .split_by_rand_pct(0.1)\n",
    "                .label_for_lm()\n",
    "                .databunch(bs=bs))\n",
    "    data_lm.save('all_data')\n",
    "else:\n",
    "    data_lm = load_data(path, 'all_data', bs=bs)"
   ]
  },
  {
   "cell_type": "markdown",
   "metadata": {},
   "source": [
    "We can have a look at what the data looks like."
   ]
  },
  {
   "cell_type": "code",
   "execution_count": 7,
   "metadata": {},
   "outputs": [
    {
     "data": {
      "text/html": [
       "<table border=\"1\" class=\"dataframe\">\n",
       "  <thead>\n",
       "    <tr style=\"text-align: right;\">\n",
       "      <th>idx</th>\n",
       "      <th>text</th>\n",
       "    </tr>\n",
       "  </thead>\n",
       "  <tbody>\n",
       "    <tr>\n",
       "      <td>0</td>\n",
       "      <td>iemand beval me dit boek van deze auteur aan als de beste thriller die hij ooit had gelezen nadat ik had aangegeven een andere boek van hem veel te somber en te zwart te hebben gevonden . xxmaj eerlijkheid gebied me te zeggen dat ik dit wederom een zeer deprimerend boek vond . xxmaj het hoofdpersonage kent alleen maar pech en narigheid in zijn leven . xxmaj het is een</td>\n",
       "    </tr>\n",
       "    <tr>\n",
       "      <td>1</td>\n",
       "      <td>het een uitdaging xxmaj anna 's verhaal te duiden en het verband tussen beide verhalen te achterhalen . xxmaj het besef , dat hier de vinger gelegd wordt op een hardnekkig xxmaj surinaams probleem , laat mij als lezer verslagen achter . \\n  xxmaj hele recensie lezen ? xxmaj zie : https : / / mijnboekenkast.blogspot.com / 2018 / 09 / xxunk \\n  xxmaj we gaan xxmaj wil</td>\n",
       "    </tr>\n",
       "    <tr>\n",
       "      <td>2</td>\n",
       "      <td>xxmaj van kleine kinderen tot ze vertrekken als ze zestien jaar zijn . \\n  xxmaj ze zijn xxunk kunnen zichzelf niet xxunk en zijn \\n  voorbestemd om meerdere organen te doneren tot de dood erop volgt . \\n  xxmaj op ingehouden , subtiele wijze geschreven . \\n  xxmaj je komt er langzaam achter waar dit boek over gaat . \\n  xxmaj soms ' vlak '</td>\n",
       "    </tr>\n",
       "  </tbody>\n",
       "</table>"
      ],
      "text/plain": [
       "<IPython.core.display.HTML object>"
      ]
     },
     "metadata": {},
     "output_type": "display_data"
    }
   ],
   "source": [
    "data_lm.show_batch()"
   ]
  },
  {
   "cell_type": "markdown",
   "metadata": {},
   "source": [
    "For the classifier portion later on, the vocabulary of this dataset needs to be reused. It is stored as a pickle file so it can be quickly and easily retrieved."
   ]
  },
  {
   "cell_type": "code",
   "execution_count": 7,
   "metadata": {},
   "outputs": [],
   "source": [
    "pickle_out = open(\"data/pickles/vocab.pickle\",\"wb\")\n",
    "pickle.dump(data_lm.vocab,pickle_out)\n",
    "pickle_out.close()"
   ]
  },
  {
   "cell_type": "markdown",
   "metadata": {},
   "source": [
    "## Language model"
   ]
  },
  {
   "cell_type": "markdown",
   "metadata": {},
   "source": [
    "The pre-trained Wikipedia corpus LM is called lm_best.\n",
    "It was generated by Benjamin van der Burgh and downloaded from http://bit.ly/2trOhzq. The program looks for it in the path/models folder, together with the \"itos.pkl\" file."
   ]
  },
  {
   "cell_type": "code",
   "execution_count": 14,
   "metadata": {},
   "outputs": [],
   "source": [
    "learn = language_model_learner(data_lm, AWD_LSTM, pretrained_fnames=['lm_best', 'itos'], drop_mult=0.3)\n",
    "learn.save_encoder('wiki_enc')\n",
    "learn.save('loadable_wiki')"
   ]
  },
  {
   "cell_type": "markdown",
   "metadata": {},
   "source": [
    "The model can predict sentences to show its current level of language understanding."
   ]
  },
  {
   "cell_type": "code",
   "execution_count": 15,
   "metadata": {},
   "outputs": [
    {
     "name": "stdout",
     "output_type": "stream",
     "text": [
      "Wat een kleine groep Nederlander ( Schone Energie ) heet , een Belgisch gebied , ligt bij de Nederlandse grens . Zo is er een specifiek Nederlandse kust ; de Hollandse Eilanden .\n",
      "\n",
      "Wat een ander voorbeeld is van de Franse vermomde Brussel is de Belgische Gouden Eeuw , een van de eerste in de wereld van Belgische kunst . De Belgische beroemde beeldhouwer Jan\n",
      "\n",
      "Wat een Midden - Nederlandse politicus uit de Tweede Wereldoorlog is , maar een rol speelt bij de Partij van de Arbeid . De piet Caraïben is een bondgenoot van Nederland in het\n",
      "\n",
      "Wat een ander Nederlands schat is , onbekend . De Nederlandse Bloedwraak Stichting maakt dat een vrouw een kind op een maria - school kan pietsie of heeft gewerkt . Op de kaart was de begeleiding\n"
     ]
    }
   ],
   "source": [
    "learn.load('loadable_wiki');\n",
    "TEXT = \"Wat een\"\n",
    "N_WORDS = 40\n",
    "N_SENTENCES = 4\n",
    "print(\"\\n\\n\".join(learn.predict(TEXT, N_WORDS, temperature=0.8) for _ in range(N_SENTENCES)))"
   ]
  },
  {
   "cell_type": "code",
   "execution_count": 11,
   "metadata": {},
   "outputs": [
    {
     "data": {
      "text/html": [],
      "text/plain": [
       "<IPython.core.display.HTML object>"
      ]
     },
     "metadata": {},
     "output_type": "display_data"
    },
    {
     "name": "stdout",
     "output_type": "stream",
     "text": [
      "LR Finder is complete, type {learner_name}.recorder.plot() to see the graph.\n"
     ]
    },
    {
     "data": {
      "image/png": "[encoded data removed]",
      "text/plain": [
       "<Figure size 432x288 with 1 Axes>"
      ]
     },
     "metadata": {
      "needs_background": "light"
     },
     "output_type": "display_data"
    }
   ],
   "source": [
    "learn.lr_find()\n",
    "learn.recorder.plot(skip_end=15)"
   ]
  },
  {
   "cell_type": "markdown",
   "metadata": {},
   "source": [
    "A good enough learning rate is about one order of magnitude smaller than lowest loss learning rate.\n",
    "We start by fitting only the last layer (the 'head') of the Wikipedia-trained LM to the target-specific data."
   ]
  },
  {
   "cell_type": "code",
   "execution_count": 13,
   "metadata": {},
   "outputs": [],
   "source": [
    "head_fit_not_done_before = True\n",
    "\n",
    "if head_fit_not_done_before:\n",
    "    learn.freeze()\n",
    "    learn.fit_one_cycle(1, 1e-2, moms=(0.8,0.7)) # With bs=3, this takes 7h15 on my machine.\n",
    "    learn.save('fit_head')\n",
    "    \n",
    "else:\n",
    "    learn.load('fit_head');"
   ]
  },
  {
   "cell_type": "markdown",
   "metadata": {},
   "source": [
    "To start the real fine-tuning, the model is completely unfrozen so all the layers can change weights."
   ]
  },
  {
   "cell_type": "code",
   "execution_count": 12,
   "metadata": {},
   "outputs": [],
   "source": [
    "learn.unfreeze()"
   ]
  },
  {
   "cell_type": "markdown",
   "metadata": {},
   "source": [
    "Improve the LM for 20 epochs. The model is saved every Xth epoch to 'bestmodel_X.pth'"
   ]
  },
  {
   "cell_type": "code",
   "execution_count": null,
   "metadata": {},
   "outputs": [],
   "source": [
    "cb = SaveModelCallback(learn, every='epoch')\n",
    "learn.fit_one_cycle(20, 1e-3, moms=(0.8,0.7), callbacks=[cb]) # With bs=3, this takes 9h05 on my machine per epoch."
   ]
  },
  {
   "cell_type": "markdown",
   "metadata": {},
   "source": [
    "The model can predict sentences to show its current level of language understanding.\n",
    "Due to an unwanted update-reboot, the program uses 'bestmodel_16' instead of 'bestmodel_19'. It takes my system a week to get to epoch 17, so a re-run was not considered worthwhile."
   ]
  },
  {
   "cell_type": "code",
   "execution_count": 29,
   "metadata": {},
   "outputs": [
    {
     "name": "stdout",
     "output_type": "stream",
     "text": [
      "Wat een prachtig boek . Het verhaal is zo familie dat je er niet in moet komen maar het leest niet als een fantasy . Het is echt een me echt en feiten in de daarbij . \n",
      " \n",
      "  Het\n",
      "\n",
      "Wat een prachtig verhaal . Je leeft mee met de vlot , met zal je weinig plot kan niets je je als lezer prettig in het verhaal wordt voeten . Ik heb volgt van de vriendinnen van de ben\n",
      "\n",
      "Wat een 3 boek . Het leest als een fantasy en je vele de vaart en de krijg . \n",
      "  Met haar heel Anders en Het Geeft je een mooi vaak waar je je als lezer al\n",
      "\n",
      "Wat een onderwerp weg ! \n",
      "  Het is een spannend verhaal ? een goed die op een dag wordt heel noemen en haar verhaal druk . De ouders van Rustige Ouders zijn school na hun dood raakt .\n"
     ]
    }
   ],
   "source": [
    "learn.load('bestmodel_16');\n",
    "TEXT = \"Wat een\"\n",
    "N_WORDS = 40\n",
    "N_SENTENCES = 4\n",
    "print(\"\\n\\n\".join(learn.predict(TEXT, N_WORDS, temperature=0.8) for _ in range(N_SENTENCES)))"
   ]
  },
  {
   "cell_type": "markdown",
   "metadata": {},
   "source": [
    "These sentences are more inspired by book reviews than Wikipedia-articles.\n",
    "\n",
    "The encoder is saved for later use in the classifier portion of the experiment."
   ]
  },
  {
   "cell_type": "code",
   "execution_count": 22,
   "metadata": {},
   "outputs": [],
   "source": [
    "learn.save_encoder('fine_tuned_enc')"
   ]
  },
  {
   "cell_type": "markdown",
   "metadata": {},
   "source": [
    "## Dataset Sizes"
   ]
  },
  {
   "cell_type": "markdown",
   "metadata": {},
   "source": [
    "In order to test ULMFiT for multiple dataset sizes, random samples are made for all the chosen dataset sizes. Training a neural net is very training set-dependent, and using multiple random samples will give us some insight on the influence they have."
   ]
  },
  {
   "cell_type": "code",
   "execution_count": 8,
   "metadata": {},
   "outputs": [],
   "source": [
    "def create_sample(amount,poslist,neglist):\n",
    "    ## This function will create a sample with \"amount\" examples, of which half are positive, half negative.\n",
    "    ## It will save this sample in \"data/train{amount}-{split}\", for a number \"split\" that has not been used before.\n",
    "    half_amount = amount // 2\n",
    "    split = 0\n",
    "    current_dir = f\"data/train{amount}-{split}\"\n",
    "    chosen_pozzies  = random.sample(poslist,half_amount)\n",
    "    chosen_neggies = random.sample(neglist,half_amount)\n",
    "    while(True):\n",
    "        try:\n",
    "            os.mkdir(current_dir)\n",
    "            break\n",
    "        except FileExistsError:\n",
    "            split += 1\n",
    "            current_dir = f\"data/train{amount}-{split}\"\n",
    "    os.mkdir(current_dir+\"/pos\")\n",
    "    os.mkdir(current_dir+\"/neg\")\n",
    "    for chosen_element in chosen_pozzies:\n",
    "        copyfile(\"data/train_all/pos/\"+chosen_element,current_dir+\"/pos/\"+chosen_element)\n",
    "    for chosen_element in chosen_neggies:\n",
    "        copyfile(\"data/train_all/neg/\"+chosen_element,current_dir+\"/neg/\"+chosen_element)\n",
    "    #print(f\"Sample of {amount} elements made in folder {current_dir}.\")\n",
    "\n",
    "def create_samples(val_amount = 5, size_list = [50,100,150,200,500,1000,1500,2000,5000,10000,15000]):\n",
    "    poslist = []\n",
    "    neglist = []\n",
    "    \n",
    "    newposlist = []\n",
    "    newneglist = []\n",
    "    \n",
    "    for filename in os.listdir(\"data/train_all/pos\"):\n",
    "        poslist.append(filename)\n",
    "    \n",
    "    for filename in os.listdir(\"data/train_all/neg\"):\n",
    "        neglist.append(filename)\n",
    "        \n",
    "    for sample_size in size_list:\n",
    "        print(f\"\\nCreating {val_amount} samples of size {sample_size}\")\n",
    "        for validation_size in tqdm(range(val_amount)):\n",
    "            try:\n",
    "                create_sample(sample_size,poslist,neglist)\n",
    "            except ValueError:\n",
    "                print(f\"Not enough data to make a sample of {sample_size}!\")\n",
    "                break"
   ]
  },
  {
   "cell_type": "markdown",
   "metadata": {},
   "source": [
    "Below is an example of what the folder structure should look like after running the create_samples command.\n",
    "Just moving the files instead of copying them and creating new folders would be faster and require no extra space.\n",
    "Copying, however, allows for re-testing the same sample and checking for variability of results."
   ]
  },
  {
   "cell_type": "code",
   "execution_count": 9,
   "metadata": {
    "scrolled": true
   },
   "outputs": [
    {
     "name": "stdout",
     "output_type": "stream",
     "text": [
      "\n",
      "Creating 5 samples of size 50\n"
     ]
    },
    {
     "data": {
      "application/vnd.jupyter.widget-view+json": {
       "model_id": "8b0275a0a626451fba02727b5a5aacc6",
       "version_major": 2,
       "version_minor": 0
      },
      "text/plain": [
       "HBox(children=(IntProgress(value=0, max=5), HTML(value='')))"
      ]
     },
     "metadata": {},
     "output_type": "display_data"
    },
    {
     "name": "stdout",
     "output_type": "stream",
     "text": [
      "\n",
      "\n",
      "Creating 5 samples of size 100\n"
     ]
    },
    {
     "data": {
      "application/vnd.jupyter.widget-view+json": {
       "model_id": "cc7c934ccf2740e6827b5ce659732cca",
       "version_major": 2,
       "version_minor": 0
      },
      "text/plain": [
       "HBox(children=(IntProgress(value=0, max=5), HTML(value='')))"
      ]
     },
     "metadata": {},
     "output_type": "display_data"
    },
    {
     "name": "stdout",
     "output_type": "stream",
     "text": [
      "\n",
      "\n",
      "Creating 5 samples of size 150\n"
     ]
    },
    {
     "data": {
      "application/vnd.jupyter.widget-view+json": {
       "model_id": "9cd76e8b118147d1a596a3cd5f15056d",
       "version_major": 2,
       "version_minor": 0
      },
      "text/plain": [
       "HBox(children=(IntProgress(value=0, max=5), HTML(value='')))"
      ]
     },
     "metadata": {},
     "output_type": "display_data"
    },
    {
     "name": "stdout",
     "output_type": "stream",
     "text": [
      "\n",
      "\n",
      "Creating 5 samples of size 200\n"
     ]
    },
    {
     "data": {
      "application/vnd.jupyter.widget-view+json": {
       "model_id": "8325b8af48dc41c594c76369d1ed2586",
       "version_major": 2,
       "version_minor": 0
      },
      "text/plain": [
       "HBox(children=(IntProgress(value=0, max=5), HTML(value='')))"
      ]
     },
     "metadata": {},
     "output_type": "display_data"
    },
    {
     "name": "stdout",
     "output_type": "stream",
     "text": [
      "\n",
      "\n",
      "Creating 5 samples of size 500\n"
     ]
    },
    {
     "data": {
      "application/vnd.jupyter.widget-view+json": {
       "model_id": "3945308dfbf642adb97bc264f926cb40",
       "version_major": 2,
       "version_minor": 0
      },
      "text/plain": [
       "HBox(children=(IntProgress(value=0, max=5), HTML(value='')))"
      ]
     },
     "metadata": {},
     "output_type": "display_data"
    },
    {
     "name": "stdout",
     "output_type": "stream",
     "text": [
      "\n",
      "\n",
      "Creating 5 samples of size 1000\n"
     ]
    },
    {
     "data": {
      "application/vnd.jupyter.widget-view+json": {
       "model_id": "b4c33f9763bf423b962ba2b3406d5176",
       "version_major": 2,
       "version_minor": 0
      },
      "text/plain": [
       "HBox(children=(IntProgress(value=0, max=5), HTML(value='')))"
      ]
     },
     "metadata": {},
     "output_type": "display_data"
    },
    {
     "name": "stdout",
     "output_type": "stream",
     "text": [
      "\n",
      "\n",
      "Creating 5 samples of size 1500\n"
     ]
    },
    {
     "data": {
      "application/vnd.jupyter.widget-view+json": {
       "model_id": "9c6d16e8383c46dabf82a4fe248ed319",
       "version_major": 2,
       "version_minor": 0
      },
      "text/plain": [
       "HBox(children=(IntProgress(value=0, max=5), HTML(value='')))"
      ]
     },
     "metadata": {},
     "output_type": "display_data"
    },
    {
     "name": "stdout",
     "output_type": "stream",
     "text": [
      "\n",
      "\n",
      "Creating 5 samples of size 2000\n"
     ]
    },
    {
     "data": {
      "application/vnd.jupyter.widget-view+json": {
       "model_id": "93d925cf36634c4088b386e916b032b6",
       "version_major": 2,
       "version_minor": 0
      },
      "text/plain": [
       "HBox(children=(IntProgress(value=0, max=5), HTML(value='')))"
      ]
     },
     "metadata": {},
     "output_type": "display_data"
    },
    {
     "name": "stdout",
     "output_type": "stream",
     "text": [
      "\n",
      "\n",
      "Creating 5 samples of size 5000\n"
     ]
    },
    {
     "data": {
      "application/vnd.jupyter.widget-view+json": {
       "model_id": "d257db457d2d4591ac6e0590e4884a5c",
       "version_major": 2,
       "version_minor": 0
      },
      "text/plain": [
       "HBox(children=(IntProgress(value=0, max=5), HTML(value='')))"
      ]
     },
     "metadata": {},
     "output_type": "display_data"
    },
    {
     "name": "stdout",
     "output_type": "stream",
     "text": [
      "\n",
      "\n",
      "Creating 5 samples of size 10000\n"
     ]
    },
    {
     "data": {
      "application/vnd.jupyter.widget-view+json": {
       "model_id": "8ce080d8a72e43b98e90a873ace610ee",
       "version_major": 2,
       "version_minor": 0
      },
      "text/plain": [
       "HBox(children=(IntProgress(value=0, max=5), HTML(value='')))"
      ]
     },
     "metadata": {},
     "output_type": "display_data"
    },
    {
     "name": "stdout",
     "output_type": "stream",
     "text": [
      "\n",
      "\n",
      "Creating 5 samples of size 15000\n"
     ]
    },
    {
     "data": {
      "application/vnd.jupyter.widget-view+json": {
       "model_id": "c1405d6ce86142e8ab534eec0fbcdc9c",
       "version_major": 2,
       "version_minor": 0
      },
      "text/plain": [
       "HBox(children=(IntProgress(value=0, max=5), HTML(value='')))"
      ]
     },
     "metadata": {},
     "output_type": "display_data"
    },
    {
     "name": "stdout",
     "output_type": "stream",
     "text": [
      "\n"
     ]
    },
    {
     "data": {
      "text/plain": [
       "[WindowsPath('data/all_data'),\n",
       " WindowsPath('data/models'),\n",
       " WindowsPath('data/pickles'),\n",
       " WindowsPath('data/test'),\n",
       " WindowsPath('data/train100-0'),\n",
       " WindowsPath('data/train100-1'),\n",
       " WindowsPath('data/train100-2'),\n",
       " WindowsPath('data/train100-3'),\n",
       " WindowsPath('data/train100-4'),\n",
       " WindowsPath('data/train1000-0'),\n",
       " WindowsPath('data/train1000-1'),\n",
       " WindowsPath('data/train1000-2'),\n",
       " WindowsPath('data/train1000-3'),\n",
       " WindowsPath('data/train1000-4'),\n",
       " WindowsPath('data/train10000-0'),\n",
       " WindowsPath('data/train10000-1'),\n",
       " WindowsPath('data/train10000-2'),\n",
       " WindowsPath('data/train10000-3'),\n",
       " WindowsPath('data/train10000-4'),\n",
       " WindowsPath('data/train150-0'),\n",
       " WindowsPath('data/train150-1'),\n",
       " WindowsPath('data/train150-2'),\n",
       " WindowsPath('data/train150-3'),\n",
       " WindowsPath('data/train150-4'),\n",
       " WindowsPath('data/train1500-0'),\n",
       " WindowsPath('data/train1500-1'),\n",
       " WindowsPath('data/train1500-2'),\n",
       " WindowsPath('data/train1500-3'),\n",
       " WindowsPath('data/train1500-4'),\n",
       " WindowsPath('data/train15000-0'),\n",
       " WindowsPath('data/train15000-1'),\n",
       " WindowsPath('data/train15000-2'),\n",
       " WindowsPath('data/train15000-3'),\n",
       " WindowsPath('data/train15000-4'),\n",
       " WindowsPath('data/train200-0'),\n",
       " WindowsPath('data/train200-1'),\n",
       " WindowsPath('data/train200-2'),\n",
       " WindowsPath('data/train200-3'),\n",
       " WindowsPath('data/train200-4'),\n",
       " WindowsPath('data/train2000-0'),\n",
       " WindowsPath('data/train2000-1'),\n",
       " WindowsPath('data/train2000-2'),\n",
       " WindowsPath('data/train2000-3'),\n",
       " WindowsPath('data/train2000-4'),\n",
       " WindowsPath('data/train50-0'),\n",
       " WindowsPath('data/train50-1'),\n",
       " WindowsPath('data/train50-2'),\n",
       " WindowsPath('data/train50-3'),\n",
       " WindowsPath('data/train50-4'),\n",
       " WindowsPath('data/train500-0'),\n",
       " WindowsPath('data/train500-1'),\n",
       " WindowsPath('data/train500-2'),\n",
       " WindowsPath('data/train500-3'),\n",
       " WindowsPath('data/train500-4'),\n",
       " WindowsPath('data/train5000-0'),\n",
       " WindowsPath('data/train5000-1'),\n",
       " WindowsPath('data/train5000-2'),\n",
       " WindowsPath('data/train5000-3'),\n",
       " WindowsPath('data/train5000-4'),\n",
       " WindowsPath('data/train_all'),\n",
       " WindowsPath('data/unsup'),\n",
       " WindowsPath('data/urls.txt')]"
      ]
     },
     "execution_count": 9,
     "metadata": {},
     "output_type": "execute_result"
    }
   ],
   "source": [
    "# create_samples(2,[50,150])\n",
    "create_samples()\n",
    "\n",
    "testpath = Path('data/')\n",
    "testpath.ls()"
   ]
  },
  {
   "cell_type": "markdown",
   "metadata": {},
   "source": [
    "## Classifier"
   ]
  },
  {
   "cell_type": "markdown",
   "metadata": {},
   "source": [
    "Edit the values below to test another sample. If train_sample is set to True, be sure that a folder named \"train{sample_size}-{current_validation}\" was created in the previous step.\n",
    "\n",
    "To train the classifier on the Wikipedia-trained LM directly (no fine-tuning), set fine_tuning to False"
   ]
  },
  {
   "cell_type": "code",
   "execution_count": 16,
   "metadata": {},
   "outputs": [],
   "source": [
    "bs = 5 # GPUs with more CUDA memory can learn faster with a larger batch size.\n",
    "train_sample = True\n",
    "fine_tuning = False\n",
    "sample_size = 50\n",
    "current_validation = 0"
   ]
  },
  {
   "cell_type": "code",
   "execution_count": 17,
   "metadata": {},
   "outputs": [],
   "source": [
    "#Load in the previously made vocabulary\n",
    "pickle_in = open(\"data/pickles/vocab.pickle\",\"rb\")\n",
    "data_lm_vocab = pickle.load(pickle_in)"
   ]
  },
  {
   "cell_type": "code",
   "execution_count": 49,
   "metadata": {},
   "outputs": [],
   "source": [
    "# Rename the right folder to \"train\"\n",
    "if train_sample:\n",
    "    os.rename(f\"data/train{sample_size}-{current_validation}\",'data/train') # rename training folder to \"train\"\n",
    "else:\n",
    "    os.rename('data/train_all','data/train') # rename training folder to \"train\""
   ]
  },
  {
   "cell_type": "markdown",
   "metadata": {},
   "source": [
    "The following code performs the actual ULMFiT process!"
   ]
  },
  {
   "cell_type": "code",
   "execution_count": 50,
   "metadata": {
    "scrolled": true
   },
   "outputs": [
    {
     "data": {
      "text/html": [
       "<table border=\"1\" class=\"dataframe\">\n",
       "  <thead>\n",
       "    <tr style=\"text-align: left;\">\n",
       "      <th>epoch</th>\n",
       "      <th>train_loss</th>\n",
       "      <th>valid_loss</th>\n",
       "      <th>accuracy</th>\n",
       "      <th>time</th>\n",
       "    </tr>\n",
       "  </thead>\n",
       "  <tbody>\n",
       "    <tr>\n",
       "      <td>0</td>\n",
       "      <td>0.680811</td>\n",
       "      <td>0.658182</td>\n",
       "      <td>0.661891</td>\n",
       "      <td>03:03</td>\n",
       "    </tr>\n",
       "  </tbody>\n",
       "</table>"
      ],
      "text/plain": [
       "<IPython.core.display.HTML object>"
      ]
     },
     "metadata": {},
     "output_type": "display_data"
    },
    {
     "data": {
      "text/html": [
       "<table border=\"1\" class=\"dataframe\">\n",
       "  <thead>\n",
       "    <tr style=\"text-align: left;\">\n",
       "      <th>epoch</th>\n",
       "      <th>train_loss</th>\n",
       "      <th>valid_loss</th>\n",
       "      <th>accuracy</th>\n",
       "      <th>time</th>\n",
       "    </tr>\n",
       "  </thead>\n",
       "  <tbody>\n",
       "    <tr>\n",
       "      <td>0</td>\n",
       "      <td>0.470030</td>\n",
       "      <td>0.614627</td>\n",
       "      <td>0.698185</td>\n",
       "      <td>03:03</td>\n",
       "    </tr>\n",
       "  </tbody>\n",
       "</table>"
      ],
      "text/plain": [
       "<IPython.core.display.HTML object>"
      ]
     },
     "metadata": {},
     "output_type": "display_data"
    },
    {
     "data": {
      "text/html": [
       "<table border=\"1\" class=\"dataframe\">\n",
       "  <thead>\n",
       "    <tr style=\"text-align: left;\">\n",
       "      <th>epoch</th>\n",
       "      <th>train_loss</th>\n",
       "      <th>valid_loss</th>\n",
       "      <th>accuracy</th>\n",
       "      <th>time</th>\n",
       "    </tr>\n",
       "  </thead>\n",
       "  <tbody>\n",
       "    <tr>\n",
       "      <td>0</td>\n",
       "      <td>0.316639</td>\n",
       "      <td>0.636122</td>\n",
       "      <td>0.579752</td>\n",
       "      <td>03:05</td>\n",
       "    </tr>\n",
       "  </tbody>\n",
       "</table>"
      ],
      "text/plain": [
       "<IPython.core.display.HTML object>"
      ]
     },
     "metadata": {},
     "output_type": "display_data"
    }
   ],
   "source": [
    "#Load in the training and test folder\n",
    "data_clas = (TextList.from_folder(path, vocab=data_lm_vocab)\n",
    "             #grab all the text files in path, reuse vocab from data_lm\n",
    "             .filter_by_folder(include=['train', 'test']) #f\"train{dataset_size}-{current_validation}\"\n",
    "             #We may have other temp folders that contain text files so we only keep what's in train and test\n",
    "             .split_by_folder(valid='test')\n",
    "             #split by train and valid folder (that only keeps 'train' and 'test' so no need to filter)\n",
    "             .label_from_folder(classes=['neg', 'pos'])\n",
    "             #label them all with their folders\n",
    "             .databunch(bs=bs))\n",
    "# data_clas.show_batch()\n",
    "\n",
    "# Gradually unfreeze the top 3 layers and change the learning rate while doing so.\n",
    "learn = text_classifier_learner(data_clas, AWD_LSTM, drop_mult=0.5)\n",
    "if fine_tuning:\n",
    "    learn.load_encoder('fine_tuned_enc')\n",
    "else:\n",
    "    learn.load_encoder('wiki_enc')\n",
    "learn.fit_one_cycle(1, 2e-2, moms=(0.8,0.7))\n",
    "learn.freeze_to(-2)\n",
    "learn.fit_one_cycle(1, slice(1e-2/(2.6**4),1e-2), moms=(0.8,0.7))\n",
    "learn.freeze_to(-3)\n",
    "learn.fit_one_cycle(1, slice(5e-3/(2.6**4),5e-3), moms=(0.8,0.7))"
   ]
  },
  {
   "cell_type": "code",
   "execution_count": 51,
   "metadata": {},
   "outputs": [],
   "source": [
    "# Rename the \"train\" folder to its original name\n",
    "if train_sample:\n",
    "    os.rename('data/train',f\"data/train{sample_size}-{current_validation}\") # rename \"train\" folder\n",
    "else:\n",
    "    os.rename('data/train','data/train_all') # rename \"train\" folder"
   ]
  },
  {
   "cell_type": "markdown",
   "metadata": {},
   "source": [
    "## Visualize results"
   ]
  },
  {
   "cell_type": "markdown",
   "metadata": {},
   "source": [
    "The accuracy can be visualized in the Confusion matrix. The examples where the model considers itself to be worst, i.e. where the loss is the highest, can also be shown."
   ]
  },
  {
   "cell_type": "code",
   "execution_count": 52,
   "metadata": {},
   "outputs": [],
   "source": [
    "interp = learn.interpret()"
   ]
  },
  {
   "cell_type": "code",
   "execution_count": 53,
   "metadata": {},
   "outputs": [
    {
     "data": {
      "image/png": "[encoded data removed]",
      "text/plain": [
       "<Figure size 432x288 with 1 Axes>"
      ]
     },
     "metadata": {
      "needs_background": "light"
     },
     "output_type": "display_data"
    }
   ],
   "source": [
    "interp.plot_confusion_matrix()"
   ]
  },
  {
   "cell_type": "code",
   "execution_count": 54,
   "metadata": {},
   "outputs": [
    {
     "data": {
      "text/plain": [
       "(tensor([1.9461, 1.7361, 1.7259, 1.6989, 1.6736]),\n",
       " tensor([1983, 2042, 1690, 1663, 1858]))"
      ]
     },
     "execution_count": 54,
     "metadata": {},
     "output_type": "execute_result"
    }
   ],
   "source": [
    "interp.top_losses(k=5)"
   ]
  },
  {
   "cell_type": "code",
   "execution_count": 60,
   "metadata": {},
   "outputs": [],
   "source": [
    "analyze_index = 2042"
   ]
  },
  {
   "cell_type": "code",
   "execution_count": 61,
   "metadata": {
    "scrolled": false
   },
   "outputs": [
    {
     "data": {
      "text/plain": [
       "(Text xxbos xxmaj het xxmaj meesterwerk is goed geschreven , xxmaj de plot is misschien niet heel verrassend , maar is wel goed beschreven . xxmaj genieten van de eerste tot en met de laatste xxunk . xxmaj vanuit verschillende personen wordt het xxmaj meesterwerk belicht en het bevat verassende wendingen . \n",
       "   ' xxmaj het is autobiografisch , helemaal waargebeurd maar toch zie je elementen van fictie in de stijl en vooral de opbouw , dat maakt het des te sterker . ' - xxmaj win boeken voor je hele leesclub ! \n",
       "   xxmaj we gaan xxmaj wil van xxmaj jeroen xxmaj olyslaegers luisteren via de gratis xxmaj hebban xxmaj luisterboeken - app . xxmaj doe je mee ? \n",
       "   ' xxmaj wat beweegt de jonge zwarte deelpachter xxmaj tucker xxmaj caliban om huis , vee en akkers te vernietigen en met vrouw en kind naar het xxmaj noorden te vertrekken?'- xxmaj win xxmaj uit de maat voor je hele leesgroep !,\n",
       " Category pos)"
      ]
     },
     "execution_count": 61,
     "metadata": {},
     "output_type": "execute_result"
    }
   ],
   "source": [
    "learn.data.valid_ds[analyze_index]"
   ]
  },
  {
   "cell_type": "code",
   "execution_count": 57,
   "metadata": {},
   "outputs": [],
   "source": [
    "y_probs, y_pred = learn.get_preds(ordered=True)"
   ]
  },
  {
   "cell_type": "code",
   "execution_count": 62,
   "metadata": {},
   "outputs": [
    {
     "data": {
      "text/plain": [
       "(tensor([0.6656, 0.3344]), tensor(1))"
      ]
     },
     "execution_count": 62,
     "metadata": {},
     "output_type": "execute_result"
    }
   ],
   "source": [
    "y_probs[analyze_index], y_pred[analyze_index] #tensor(0) is positive prediction, tensor(1) is negative"
   ]
  },
  {
   "cell_type": "code",
   "execution_count": null,
   "metadata": {},
   "outputs": [],
   "source": []
  }
 ],
 "metadata": {
  "kernelspec": {
   "display_name": "Python 3",
   "language": "python",
   "name": "python3"
  },
  "language_info": {
   "codemirror_mode": {
    "name": "ipython",
    "version": 3
   },
   "file_extension": ".py",
   "mimetype": "text/x-python",
   "name": "python",
   "nbconvert_exporter": "python",
   "pygments_lexer": "ipython3",
   "version": "3.6.8"
  }
 },
 "nbformat": 4,
 "nbformat_minor": 2
}
