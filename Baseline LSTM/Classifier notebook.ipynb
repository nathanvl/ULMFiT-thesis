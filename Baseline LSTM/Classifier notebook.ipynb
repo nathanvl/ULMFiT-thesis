{
 "cells": [
  {
   "cell_type": "code",
   "execution_count": 1,
   "metadata": {
    "scrolled": true
   },
   "outputs": [],
   "source": [
    "import datetime\n",
    "import pickle\n",
    "import torch\n",
    "import torch.nn as nn\n",
    "import torch.optim as optim\n",
    "from tqdm import tqdm_notebook as tqdm\n",
    "from random import shuffle\n",
    "\n",
    "\n",
    "pickle_in = open(\"pickles/data.pickle\",\"rb\")\n",
    "data_dict = pickle.load(pickle_in)\n",
    "pickle_in = open(\"pickles/tokens.pickle\",\"rb\")\n",
    "token_dict = pickle.load(pickle_in)\n",
    "VOCAB_SIZE = len(token_dict)\n",
    "PADDING_INDEX = 0\n",
    "pickle_in = open(\"pickles/vectorized_data.pickle\",\"rb\")\n",
    "vectorized_data = pickle.load(pickle_in)"
   ]
  },
  {
   "cell_type": "code",
   "execution_count": 2,
   "metadata": {},
   "outputs": [],
   "source": [
    "indices = []\n",
    "current_index = 0\n",
    "\n",
    "def shuffle_total_dataset(datalist):\n",
    "    # Returns a randomly shuffled copy of a datalist\n",
    "    shuffled_datalist = []\n",
    "    create_shuffled_indices(datalist)\n",
    "    for i in indices:\n",
    "        shuffled_datalist.append(datalist[i])\n",
    "    return(shuffled_datalist)\n",
    "\n",
    "def create_shuffled_indices(datalist):\n",
    "    # Creates a list of shuffled indices, which get_next uses.\n",
    "    # The data is not copied, so it is not as RAM-hungry as \"shuffle_total_dataset\"\n",
    "    global indices\n",
    "    global current_index\n",
    "    indices = [i for i in range(len(datalist))]\n",
    "    shuffle(indices)\n",
    "    current_index = 0\n",
    "    \n",
    "def get_next(datalist,batch_size=1):\n",
    "    # Returns the next batch using the (possibly shuffled) indices list.\n",
    "    global current_index\n",
    "    all_data = []\n",
    "    if len(datalist) - batch_size < current_index:\n",
    "        if current_index >= len(datalist):\n",
    "            return(None)\n",
    "        else:\n",
    "            batch_size = len(datalist) - current_index\n",
    "    \n",
    "    maxlen = 0\n",
    "    flat_unpadded_text = []\n",
    "    label = []\n",
    "    \n",
    "    for i in range(batch_size):\n",
    "        [txt,lbl] = datalist[indices[current_index + i]]\n",
    "        flat_text = flatten_list(txt)\n",
    "        if(len(flat_text) > maxlen):\n",
    "            maxlen = len(flat_text)\n",
    "        flat_unpadded_text.append(flat_text)\n",
    "        label.append([lbl])\n",
    "        \n",
    "    current_index += batch_size\n",
    "    \n",
    "    text = []\n",
    "    for unpadded_txt in flat_unpadded_text:\n",
    "        text.append(pad(unpadded_txt,maxlen))\n",
    "\n",
    "    return([text,label])\n",
    "    \n",
    "def pad(txt,length):\n",
    "    # Adds padding to a text, so it meets the correct length requirement\n",
    "    while(len(txt) < length):\n",
    "        txt.append(PADDING_INDEX)\n",
    "    return(txt)\n",
    "    \n",
    "def flatten_list(listoflists):\n",
    "    # Flattens a list like [[x,y],[z]] to [x,y,z]\n",
    "    resultinglist = []\n",
    "    for elementarylist in listoflists:\n",
    "        for element in elementarylist:\n",
    "            resultinglist.append(element)\n",
    "    return(resultinglist)\n",
    "\n",
    "def get_sample(dataset,total_amount):\n",
    "    # Returns a balanced random sample of the given dataset\n",
    "    dataset = shuffle_total_dataset(dataset)\n",
    "    sample = []\n",
    "    half_amount = total_amount //2\n",
    "    pos_amount = 0\n",
    "    neg_amount = 0\n",
    "    i = 0\n",
    "    print(\"total len: \",len(dataset))\n",
    "    while (pos_amount < half_amount) or (neg_amount < half_amount):\n",
    "        [example,lbl] = dataset[i]\n",
    "        if lbl == 0 and (neg_amount < half_amount):\n",
    "            sample.append([example,lbl])\n",
    "            neg_amount += 1\n",
    "        if lbl == 1 and (pos_amount < half_amount):\n",
    "            sample.append([example,lbl])\n",
    "            pos_amount += 1\n",
    "        i += 1\n",
    "    return(sample)\n",
    "\n",
    "def split_percentage(shuffled_dataset,devpct):\n",
    "    shuffled_again = shuffle_total_dataset(shuffled_dataset)\n",
    "    dev_amount = int(len(shuffled_again)*devpct)\n",
    "    return([shuffled_again[dev_amount:],shuffled_again[:dev_amount]])"
   ]
  },
  {
   "cell_type": "code",
   "execution_count": 3,
   "metadata": {},
   "outputs": [],
   "source": [
    "def split_kfold(dataset,k):\n",
    "    # Returns a list containing k partitions of the dataset that are as close in size as possible.\n",
    "    subset_length = len(dataset)/k\n",
    "    if subset_length != len(dataset)//k:\n",
    "        subset_length = subset_length + 1\n",
    "    subset_length = int(subset_length)\n",
    "    subsets = []\n",
    "    if subset_length == 0:\n",
    "        subsets = dataset\n",
    "        while len(subsets) < k:\n",
    "            subsets.append([])\n",
    "    else:\n",
    "        for k_i in range(k-1):\n",
    "            subsets.append(dataset[subset_length*k_i:(subset_length*k_i)+subset_length])\n",
    "        subsets.append(dataset[subset_length*(k-1):])\n",
    "\n",
    "    return(subsets)\n",
    "    \n",
    "def get_split(subsets,i):\n",
    "    # Returns the split where one of the subsets is used as devset, rest as trainset.\n",
    "    total = len(subsets)\n",
    "    actual_index = i - total * (i // total)\n",
    "    dev_set = subsets[actual_index]\n",
    "    train_set = []\n",
    "    for j in range(total):\n",
    "        if j != actual_index:\n",
    "            for element in subsets[j]:\n",
    "                train_set.append(element)\n",
    "    return [train_set, dev_set]"
   ]
  },
  {
   "cell_type": "code",
   "execution_count": 4,
   "metadata": {},
   "outputs": [],
   "source": [
    "class BinaryLSTMClassifier(nn.Module):\n",
    "\n",
    "    def __init__(self, embedding_dim, hidden_dim, vocab_size, output_size,layers=3):\n",
    "        super(BinaryLSTMClassifier, self).__init__()\n",
    "        \n",
    "        # 1. Embedding Layer\n",
    "        self.embeddings = nn.Embedding(vocab_size, embedding_dim)\n",
    "        \n",
    "        # 2. LSTM Layer\n",
    "        self.lstm = nn.LSTM(embedding_dim, hidden_dim, bidirectional=True, num_layers=layers)\n",
    "        \n",
    "        # 3. Dense Layer\n",
    "        self.hidden2out = nn.Linear(hidden_dim, output_size)\n",
    "        \n",
    "        # Optional dropout layer\n",
    "        self.dropout_layer = nn.Dropout(p=0.4)\n",
    "\n",
    "    def forward(self, batch_text):\n",
    "        embeddings = self.embeddings(batch_text)\n",
    "        _, (ht, _) = self.lstm(embeddings)\n",
    "\n",
    "        lstm_output = ht[-1]\n",
    "        lstm_output = self.dropout_layer(lstm_output)\n",
    "        final_output = self.hidden2out(lstm_output)\n",
    "        return final_output"
   ]
  },
  {
   "cell_type": "code",
   "execution_count": 5,
   "metadata": {},
   "outputs": [],
   "source": [
    "def epoch_metrics(predictions,correct,do_print=True):\n",
    "    # Prints out the metrics of the given data, and returns f-score and accuracy\n",
    "    predictions = flatten_list(predictions)\n",
    "    unlisted_preds = []\n",
    "    for elem in predictions:\n",
    "        unlisted_preds.append(elem[0])\n",
    "        \n",
    "    correct = flatten_list(correct)\n",
    "    unlisted_corrects = []\n",
    "    for elem in correct:\n",
    "        unlisted_corrects.append(elem[0])\n",
    "    \n",
    "    \n",
    "    classified_preds = []\n",
    "    for pred in unlisted_preds:\n",
    "        if pred > 0.5:\n",
    "            classified_preds.append(1)\n",
    "        else:\n",
    "            classified_preds.append(0)\n",
    "    \n",
    "    [tp, fn, fp, tn, relevant, nonrelevant] = [0,0,0,0,0,0]\n",
    "    \n",
    "    for current in range(len(unlisted_corrects)):\n",
    "        if unlisted_corrects[current] == 1:\n",
    "            relevant += 1\n",
    "            if classified_preds[current] == 1:\n",
    "                tp += 1\n",
    "            else:\n",
    "                fn += 1\n",
    "        else:\n",
    "            nonrelevant += 1\n",
    "            if classified_preds[current] == 1:\n",
    "                fp += 1\n",
    "            else:\n",
    "                tn += 1\n",
    "                \n",
    "    [p,r,f,a] = [\"/\",\"/\",0,round((tp+tn)/(tp+fp+tn+fn),3)]\n",
    "    \n",
    "    if relevant != 0:\n",
    "        r = (tp/relevant)\n",
    "\n",
    "    if (tp+fp) != 0:\n",
    "        p = (tp/(tp+fp))\n",
    "        if (relevant != 0):\n",
    "            if ((p+r) != 0):\n",
    "                f =  round(2*(p*r)/(p+r),3)\n",
    "            r = round(r,2)\n",
    "        p = round(p,2)\n",
    "            \n",
    "    if do_print:\n",
    "        print(\"precision: \",p,\" - recall: \",r,\" - accuracy: \",a,\" - f-score: \",f)\n",
    "    \n",
    "    return([a,f])"
   ]
  },
  {
   "cell_type": "code",
   "execution_count": 6,
   "metadata": {},
   "outputs": [],
   "source": [
    "device = torch.device('cuda:0' if torch.cuda.is_available() else 'cpu')\n",
    "#device = torch.device('cpu')\n",
    "\n",
    "## If this being commented out is not a problem, remove it altogether\n",
    "#def label_indices(vector):\n",
    "#    idxs = []\n",
    "#    for i in range(len(vector)):\n",
    "#        if vector[i] == 1:\n",
    "#            idxs.append(i)\n",
    "#    return(idxs)\n",
    "\n",
    "def train(model, train_iter, dev_iter, batch_size=1, max_epochs=15):\n",
    "    # Train a model with the given parameters\n",
    "    loss_function = nn.BCELoss()\n",
    "    sigm= nn.Sigmoid()\n",
    "    optimizer = optim.Adam(model.parameters())\n",
    "\n",
    "    f_s = []\n",
    "    a_s = []\n",
    "    max_f = -1\n",
    "    best_model = None\n",
    "    for epoch in tqdm(range(max_epochs)):\n",
    "        predictions, correct = [], []\n",
    "        create_shuffled_indices(train_iter)\n",
    "        print(\"=== Epoch \", epoch, \" ===\",datetime.datetime.now().strftime('%H:%M:%S'))\n",
    "        model.train()\n",
    "        for example in tqdm(range(1+(len(train_iter)//batch_size))):\n",
    "            examples = get_next(train_iter, batch_size)\n",
    "            if examples != None: #happens when train_iter//batch_size is integer\n",
    "                optimizer.zero_grad()\n",
    "                pred = model(torch.LongTensor(examples[0]).transpose(0,1).to(device))\n",
    "                loss = loss_function(sigm(pred),torch.FloatTensor(examples[1]).to(device))\n",
    "                loss.backward()\n",
    "                optimizer.step()\n",
    "                predictions.append(sigm(pred).data.tolist())\n",
    "                correct.append(examples[1])\n",
    "        \n",
    "        print(\"Training results:\")\n",
    "        epoch_metrics(predictions,correct)\n",
    "        predictions, correct = [], []\n",
    "        create_shuffled_indices(dev_iter)\n",
    "        model.eval()\n",
    "        for example in range(1+(len(dev_iter)//batch_size)):\n",
    "            examples = get_next(dev_iter, batch_size)\n",
    "            if examples != None: #happens when train_iter//batch_size is integer\n",
    "                pred = model(torch.LongTensor(examples[0]).transpose(0,1).to(device))\n",
    "                predictions.append(sigm(pred).data.tolist())\n",
    "                correct.append(examples[1])\n",
    "            \n",
    "        print(\"Development results:\")\n",
    "        [a,f] = epoch_metrics(predictions,correct)\n",
    "        f_s.append(f)\n",
    "        a_s.append(a)\n",
    "        if max_f == -1:\n",
    "            max_f = f\n",
    "            best_model = model\n",
    "        elif f >= max_f:\n",
    "            print(\"################# NEW BEST #################\")\n",
    "            max_f = f\n",
    "            best_model = model\n",
    "            \n",
    "        patience = 5\n",
    "        if (epoch > patience):\n",
    "            compare_against = f_s[epoch-patience]\n",
    "            previous_f_s = []\n",
    "            for i in range(patience):\n",
    "                previous_f_s.append(f_s[epoch-i])\n",
    "            \n",
    "            bad = True\n",
    "            for prevfs in previous_f_s:\n",
    "                if prevfs > compare_against:\n",
    "                    bad = False\n",
    "                    break\n",
    "            if bad:\n",
    "                print(\"Not enough f-score improvement, stopping.\")\n",
    "                print(compare_against,\" is larger than \",previous_f_s)\n",
    "                break\n",
    "            \n",
    "    return([f_s, a_s, best_model])           "
   ]
  },
  {
   "cell_type": "code",
   "execution_count": 7,
   "metadata": {
    "scrolled": true
   },
   "outputs": [],
   "source": [
    "def create_model(h,e,l,k,bs = 20,data_amount='all', no_kfold=False,devpct=0.1):\n",
    "    # Create a model with the given parameters, starting with that batch size.\n",
    "    # If the batch size is too large, smaller ones are attempted.\n",
    "    # The models, as well as their metrics, are saved.\n",
    "    shuffled_dataset = shuffle_total_dataset(vectorized_data[\"train\"])\n",
    "    if data_amount != 'all':\n",
    "        shuffled_dataset = get_sample(shuffled_dataset,data_amount)\n",
    "        \n",
    "    if not(no_kfold):\n",
    "        split_dataset = split_kfold(shuffled_dataset,k)\n",
    "        \n",
    "    for current_fold in range(k):\n",
    "        if not(no_kfold):\n",
    "            [training_set, development_set] = get_split(split_dataset,current_fold)\n",
    "        else:\n",
    "            [training_set, development_set] = split_percentage(shuffled_dataset,devpct)\n",
    "            \n",
    "        print(\"Try with BS: \",bs)\n",
    "\n",
    "        while(True): # Keep trying with lower batch sizes\n",
    "            try:\n",
    "                print(f\"H: {h}, E: {e}, L: {l}, CV_i: {current_fold}\")\n",
    "                classifier = BinaryLSTMClassifier(e, h, VOCAB_SIZE, 1,layers=l)  \n",
    "                [f_scores, a_scores, best_model] = \\\n",
    "                    train(classifier.to(device), training_set, development_set, max_epochs=15, batch_size=bs)\n",
    "                if data_amount != 'all':\n",
    "                    pickle_out = open(\"models/CV-\"+str(h)+\"-\"+str(e)+\"-\"+str(l)+\"-\"+str(data_amount)+\"-\"+str(current_fold)+\".pickle\",\"wb\")\n",
    "                else:\n",
    "                    pickle_out = open(\"models/CV-\"+str(h)+\"-\"+str(e)+\"-\"+str(l)+\"-\"+str(current_fold)+\".pickle\",\"wb\")\n",
    "                pickle.dump(best_model,pickle_out)\n",
    "                pickle_out.close()\n",
    "                if data_amount != 'all':\n",
    "                    pickle_out = open(\"models/metrics/CV-metrics-\"+str(h)+\"-\"+str(e)+\"-\"+str(l)+\"-\"+str(data_amount)+\"-\"+str(current_fold)+\".pickle\",\"wb\")\n",
    "                else:\n",
    "                    pickle_out = open(\"models/metrics/CV-metrics-\"+str(h)+\"-\"+str(e)+\"-\"+str(l)+\"-\"+str(current_fold)+\".pickle\",\"wb\")\n",
    "                pickle.dump([f_scores, a_scores], pickle_out)\n",
    "                pickle_out.close()\n",
    "                break # Do not try again when this batch size leads to a result\n",
    "            except RuntimeError:\n",
    "                #bs -= 1\n",
    "                bs *= 0.9\n",
    "                bs = int(bs)\n",
    "                if bs <= 0:\n",
    "                    print(\"Model too large, BS of 1 too big. Skipping\")\n",
    "                    break\n",
    "                print(\"That didn't work. Try with BS: \",bs)\n",
    "            \n",
    "                \n",
    "hidden_dims = [300]\n",
    "embedding_dims = [300]\n",
    "layer_amounts = [1]\n",
    "fold_amount = [5]\n",
    "\n",
    "hidden_dims = []\n",
    "embedding_dims = []\n",
    "layer_amounts = []\n",
    "fold_amount = []\n",
    "\n",
    "for h in hidden_dims:\n",
    "    for e in embedding_dims:\n",
    "        for l in layer_amounts:\n",
    "            for k in fold_amount:\n",
    "                create_model(h,e,l,k,bs=15)"
   ]
  },
  {
   "cell_type": "code",
   "execution_count": 8,
   "metadata": {
    "scrolled": false
   },
   "outputs": [
    {
     "name": "stdout",
     "output_type": "stream",
     "text": [
      "total len:  18854\n",
      "Try with BS:  14\n",
      "H: 300, E: 300, L: 2, datasize: 10000, CV_i: 0\n"
     ]
    },
    {
     "data": {
      "application/vnd.jupyter.widget-view+json": {
       "model_id": "ab0d134866db4516b61f0ad1db8f12f8",
       "version_major": 2,
       "version_minor": 0
      },
      "text/plain": [
       "HBox(children=(IntProgress(value=0, max=15), HTML(value='')))"
      ]
     },
     "metadata": {},
     "output_type": "display_data"
    },
    {
     "name": "stdout",
     "output_type": "stream",
     "text": [
      "=== Epoch  0  === 08:41:24\n"
     ]
    },
    {
     "data": {
      "application/vnd.jupyter.widget-view+json": {
       "model_id": "0c010f1402de431fade99e8547bf0d0f",
       "version_major": 2,
       "version_minor": 0
      },
      "text/plain": [
       "HBox(children=(IntProgress(value=0, max=643), HTML(value='')))"
      ]
     },
     "metadata": {},
     "output_type": "display_data"
    },
    {
     "name": "stdout",
     "output_type": "stream",
     "text": [
      "That didn't work. Try with BS:  12\n",
      "H: 300, E: 300, L: 2, datasize: 10000, CV_i: 0\n"
     ]
    },
    {
     "data": {
      "application/vnd.jupyter.widget-view+json": {
       "model_id": "89f4400e8f544c8daa55b2d7a1222080",
       "version_major": 2,
       "version_minor": 0
      },
      "text/plain": [
       "HBox(children=(IntProgress(value=0, max=15), HTML(value='')))"
      ]
     },
     "metadata": {},
     "output_type": "display_data"
    },
    {
     "name": "stdout",
     "output_type": "stream",
     "text": [
      "=== Epoch  0  === 08:41:50\n"
     ]
    },
    {
     "data": {
      "application/vnd.jupyter.widget-view+json": {
       "model_id": "35ea023416f842c482fe247e025ac16e",
       "version_major": 2,
       "version_minor": 0
      },
      "text/plain": [
       "HBox(children=(IntProgress(value=0, max=751), HTML(value='')))"
      ]
     },
     "metadata": {},
     "output_type": "display_data"
    },
    {
     "name": "stdout",
     "output_type": "stream",
     "text": [
      "Training results:\n",
      "precision:  0.59  - recall:  0.59  - accuracy:  0.596  - f-score:  0.594\n",
      "Development results:\n",
      "precision:  0.59  - recall:  0.85  - accuracy:  0.611  - f-score:  0.695\n",
      "=== Epoch  1  === 08:46:09\n"
     ]
    },
    {
     "data": {
      "application/vnd.jupyter.widget-view+json": {
       "model_id": "ca540deb14344164995734aca9c339b2",
       "version_major": 2,
       "version_minor": 0
      },
      "text/plain": [
       "HBox(children=(IntProgress(value=0, max=751), HTML(value='')))"
      ]
     },
     "metadata": {},
     "output_type": "display_data"
    },
    {
     "name": "stdout",
     "output_type": "stream",
     "text": [
      "Training results:\n",
      "precision:  0.69  - recall:  0.68  - accuracy:  0.689  - f-score:  0.685\n",
      "Development results:\n",
      "precision:  0.66  - recall:  0.85  - accuracy:  0.691  - f-score:  0.741\n",
      "################# NEW BEST #################\n",
      "=== Epoch  2  === 08:50:35\n"
     ]
    },
    {
     "data": {
      "application/vnd.jupyter.widget-view+json": {
       "model_id": "c2314822fe2c42f3bbe2fde334060915",
       "version_major": 2,
       "version_minor": 0
      },
      "text/plain": [
       "HBox(children=(IntProgress(value=0, max=751), HTML(value='')))"
      ]
     },
     "metadata": {},
     "output_type": "display_data"
    },
    {
     "name": "stdout",
     "output_type": "stream",
     "text": [
      "Training results:\n",
      "precision:  0.82  - recall:  0.82  - accuracy:  0.822  - f-score:  0.821\n",
      "Development results:\n",
      "precision:  0.77  - recall:  0.7  - accuracy:  0.739  - f-score:  0.737\n",
      "=== Epoch  3  === 08:55:01\n"
     ]
    },
    {
     "data": {
      "application/vnd.jupyter.widget-view+json": {
       "model_id": "1a198c82b2f94e2a8dcbec8d2b7b6018",
       "version_major": 2,
       "version_minor": 0
      },
      "text/plain": [
       "HBox(children=(IntProgress(value=0, max=751), HTML(value='')))"
      ]
     },
     "metadata": {},
     "output_type": "display_data"
    },
    {
     "name": "stdout",
     "output_type": "stream",
     "text": [
      "Training results:\n",
      "precision:  0.91  - recall:  0.91  - accuracy:  0.914  - f-score:  0.913\n",
      "Development results:\n",
      "precision:  0.78  - recall:  0.85  - accuracy:  0.796  - f-score:  0.812\n",
      "################# NEW BEST #################\n",
      "=== Epoch  4  === 08:59:27\n"
     ]
    },
    {
     "data": {
      "application/vnd.jupyter.widget-view+json": {
       "model_id": "57724f4e9cc04e728971f0fe4c81c254",
       "version_major": 2,
       "version_minor": 0
      },
      "text/plain": [
       "HBox(children=(IntProgress(value=0, max=751), HTML(value='')))"
      ]
     },
     "metadata": {},
     "output_type": "display_data"
    },
    {
     "name": "stdout",
     "output_type": "stream",
     "text": [
      "Training results:\n",
      "precision:  0.96  - recall:  0.96  - accuracy:  0.963  - f-score:  0.963\n",
      "Development results:\n",
      "precision:  0.75  - recall:  0.83  - accuracy:  0.77  - f-score:  0.79\n",
      "=== Epoch  5  === 09:03:48\n"
     ]
    },
    {
     "data": {
      "application/vnd.jupyter.widget-view+json": {
       "model_id": "14344d6e982947e2bff06197e93d1378",
       "version_major": 2,
       "version_minor": 0
      },
      "text/plain": [
       "HBox(children=(IntProgress(value=0, max=751), HTML(value='')))"
      ]
     },
     "metadata": {},
     "output_type": "display_data"
    },
    {
     "name": "stdout",
     "output_type": "stream",
     "text": [
      "Training results:\n",
      "precision:  0.99  - recall:  0.99  - accuracy:  0.985  - f-score:  0.985\n",
      "Development results:\n",
      "precision:  0.67  - recall:  0.9  - accuracy:  0.722  - f-score:  0.772\n",
      "=== Epoch  6  === 09:08:10\n"
     ]
    },
    {
     "data": {
      "application/vnd.jupyter.widget-view+json": {
       "model_id": "1cbf614f2bcb46a08647efcfd3e40162",
       "version_major": 2,
       "version_minor": 0
      },
      "text/plain": [
       "HBox(children=(IntProgress(value=0, max=751), HTML(value='')))"
      ]
     },
     "metadata": {},
     "output_type": "display_data"
    },
    {
     "name": "stdout",
     "output_type": "stream",
     "text": [
      "Training results:\n",
      "precision:  0.99  - recall:  0.99  - accuracy:  0.988  - f-score:  0.988\n",
      "Development results:\n",
      "precision:  0.75  - recall:  0.77  - accuracy:  0.747  - f-score:  0.76\n",
      "=== Epoch  7  === 09:12:37\n"
     ]
    },
    {
     "data": {
      "application/vnd.jupyter.widget-view+json": {
       "model_id": "fc850ad7f22a40d19232f89a308ad725",
       "version_major": 2,
       "version_minor": 0
      },
      "text/plain": [
       "HBox(children=(IntProgress(value=0, max=751), HTML(value='')))"
      ]
     },
     "metadata": {},
     "output_type": "display_data"
    },
    {
     "name": "stdout",
     "output_type": "stream",
     "text": [
      "Training results:\n",
      "precision:  0.99  - recall:  0.99  - accuracy:  0.992  - f-score:  0.992\n",
      "Development results:\n",
      "precision:  0.76  - recall:  0.8  - accuracy:  0.768  - f-score:  0.783\n",
      "=== Epoch  8  === 09:17:03\n"
     ]
    },
    {
     "data": {
      "application/vnd.jupyter.widget-view+json": {
       "model_id": "777b498873364de3910225fe227394af",
       "version_major": 2,
       "version_minor": 0
      },
      "text/plain": [
       "HBox(children=(IntProgress(value=0, max=751), HTML(value='')))"
      ]
     },
     "metadata": {},
     "output_type": "display_data"
    },
    {
     "name": "stdout",
     "output_type": "stream",
     "text": [
      "Training results:\n",
      "precision:  1.0  - recall:  1.0  - accuracy:  0.998  - f-score:  0.998\n",
      "Development results:\n",
      "precision:  0.75  - recall:  0.87  - accuracy:  0.778  - f-score:  0.802\n",
      "Not enough f-score improvement, stopping.\n",
      "0.812  is larger than  [0.802, 0.783, 0.76, 0.772, 0.79]\n",
      "Try with BS:  12\n",
      "H: 300, E: 300, L: 2, datasize: 10000, CV_i: 1\n"
     ]
    },
    {
     "data": {
      "application/vnd.jupyter.widget-view+json": {
       "model_id": "42557b9dc78240bd9d81d6f946f7f662",
       "version_major": 2,
       "version_minor": 0
      },
      "text/plain": [
       "HBox(children=(IntProgress(value=0, max=15), HTML(value='')))"
      ]
     },
     "metadata": {},
     "output_type": "display_data"
    },
    {
     "name": "stdout",
     "output_type": "stream",
     "text": [
      "=== Epoch  0  === 09:21:28\n"
     ]
    },
    {
     "data": {
      "application/vnd.jupyter.widget-view+json": {
       "model_id": "4034ebe0eac94146aeade5aeb68fb1b3",
       "version_major": 2,
       "version_minor": 0
      },
      "text/plain": [
       "HBox(children=(IntProgress(value=0, max=751), HTML(value='')))"
      ]
     },
     "metadata": {},
     "output_type": "display_data"
    },
    {
     "name": "stdout",
     "output_type": "stream",
     "text": [
      "Training results:\n",
      "precision:  0.6  - recall:  0.59  - accuracy:  0.597  - f-score:  0.594\n",
      "Development results:\n",
      "precision:  0.67  - recall:  0.43  - accuracy:  0.592  - f-score:  0.524\n",
      "=== Epoch  1  === 09:25:55\n"
     ]
    },
    {
     "data": {
      "application/vnd.jupyter.widget-view+json": {
       "model_id": "ade16ce6216f41dc9231c32a3e2f3d5f",
       "version_major": 2,
       "version_minor": 0
      },
      "text/plain": [
       "HBox(children=(IntProgress(value=0, max=751), HTML(value='')))"
      ]
     },
     "metadata": {},
     "output_type": "display_data"
    },
    {
     "name": "stdout",
     "output_type": "stream",
     "text": [
      "Training results:\n",
      "precision:  0.71  - recall:  0.73  - accuracy:  0.714  - f-score:  0.717\n",
      "Development results:\n",
      "precision:  0.69  - recall:  0.83  - accuracy:  0.715  - f-score:  0.754\n",
      "################# NEW BEST #################\n",
      "=== Epoch  2  === 09:30:20\n"
     ]
    },
    {
     "data": {
      "application/vnd.jupyter.widget-view+json": {
       "model_id": "a731d94615884d64920e7904063ab0f0",
       "version_major": 2,
       "version_minor": 0
      },
      "text/plain": [
       "HBox(children=(IntProgress(value=0, max=751), HTML(value='')))"
      ]
     },
     "metadata": {},
     "output_type": "display_data"
    },
    {
     "name": "stdout",
     "output_type": "stream",
     "text": [
      "Training results:\n",
      "precision:  0.84  - recall:  0.87  - accuracy:  0.85  - f-score:  0.852\n",
      "Development results:\n",
      "precision:  0.72  - recall:  0.77  - accuracy:  0.724  - f-score:  0.744\n",
      "=== Epoch  3  === 09:34:45\n"
     ]
    },
    {
     "data": {
      "application/vnd.jupyter.widget-view+json": {
       "model_id": "0f595c9962154accaf95febf9f595dba",
       "version_major": 2,
       "version_minor": 0
      },
      "text/plain": [
       "HBox(children=(IntProgress(value=0, max=751), HTML(value='')))"
      ]
     },
     "metadata": {},
     "output_type": "display_data"
    },
    {
     "name": "stdout",
     "output_type": "stream",
     "text": [
      "Training results:\n",
      "precision:  0.94  - recall:  0.95  - accuracy:  0.943  - f-score:  0.943\n",
      "Development results:\n",
      "precision:  0.74  - recall:  0.8  - accuracy:  0.744  - f-score:  0.765\n",
      "################# NEW BEST #################\n",
      "=== Epoch  4  === 09:39:11\n"
     ]
    },
    {
     "data": {
      "application/vnd.jupyter.widget-view+json": {
       "model_id": "0fa5d6c515d64a0c9b38db0f58916429",
       "version_major": 2,
       "version_minor": 0
      },
      "text/plain": [
       "HBox(children=(IntProgress(value=0, max=751), HTML(value='')))"
      ]
     },
     "metadata": {},
     "output_type": "display_data"
    },
    {
     "name": "stdout",
     "output_type": "stream",
     "text": [
      "Training results:\n",
      "precision:  0.98  - recall:  0.98  - accuracy:  0.979  - f-score:  0.979\n",
      "Development results:\n",
      "precision:  0.8  - recall:  0.7  - accuracy:  0.753  - f-score:  0.749\n",
      "=== Epoch  5  === 09:43:37\n"
     ]
    },
    {
     "data": {
      "application/vnd.jupyter.widget-view+json": {
       "model_id": "790e56650c53472cae5a86fde8df7ac9",
       "version_major": 2,
       "version_minor": 0
      },
      "text/plain": [
       "HBox(children=(IntProgress(value=0, max=751), HTML(value='')))"
      ]
     },
     "metadata": {},
     "output_type": "display_data"
    },
    {
     "name": "stdout",
     "output_type": "stream",
     "text": [
      "Training results:\n",
      "precision:  0.99  - recall:  0.99  - accuracy:  0.993  - f-score:  0.993\n",
      "Development results:\n",
      "precision:  0.78  - recall:  0.65  - accuracy:  0.722  - f-score:  0.712\n",
      "=== Epoch  6  === 09:48:04\n"
     ]
    },
    {
     "data": {
      "application/vnd.jupyter.widget-view+json": {
       "model_id": "f02ffbd1b55e4517bd7bc5185c0847e6",
       "version_major": 2,
       "version_minor": 0
      },
      "text/plain": [
       "HBox(children=(IntProgress(value=0, max=751), HTML(value='')))"
      ]
     },
     "metadata": {},
     "output_type": "display_data"
    },
    {
     "name": "stdout",
     "output_type": "stream",
     "text": [
      "Training results:\n",
      "precision:  0.99  - recall:  0.99  - accuracy:  0.993  - f-score:  0.993\n",
      "Development results:\n",
      "precision:  0.78  - recall:  0.69  - accuracy:  0.739  - f-score:  0.736\n",
      "=== Epoch  7  === 09:52:29\n"
     ]
    },
    {
     "data": {
      "application/vnd.jupyter.widget-view+json": {
       "model_id": "b84fc6ddb71d42568d83986cd4377465",
       "version_major": 2,
       "version_minor": 0
      },
      "text/plain": [
       "HBox(children=(IntProgress(value=0, max=751), HTML(value='')))"
      ]
     },
     "metadata": {},
     "output_type": "display_data"
    },
    {
     "name": "stdout",
     "output_type": "stream",
     "text": [
      "Training results:\n",
      "precision:  0.99  - recall:  0.99  - accuracy:  0.99  - f-score:  0.99\n",
      "Development results:\n",
      "precision:  0.77  - recall:  0.74  - accuracy:  0.749  - f-score:  0.755\n",
      "=== Epoch  8  === 09:56:56\n"
     ]
    },
    {
     "data": {
      "application/vnd.jupyter.widget-view+json": {
       "model_id": "07d3a739015a45169dd241f3431a6673",
       "version_major": 2,
       "version_minor": 0
      },
      "text/plain": [
       "HBox(children=(IntProgress(value=0, max=751), HTML(value='')))"
      ]
     },
     "metadata": {},
     "output_type": "display_data"
    },
    {
     "name": "stdout",
     "output_type": "stream",
     "text": [
      "Training results:\n",
      "precision:  1.0  - recall:  1.0  - accuracy:  0.997  - f-score:  0.997\n",
      "Development results:\n",
      "precision:  0.79  - recall:  0.69  - accuracy:  0.741  - f-score:  0.737\n",
      "Not enough f-score improvement, stopping.\n",
      "0.765  is larger than  [0.737, 0.755, 0.736, 0.712, 0.749]\n",
      "Try with BS:  12\n",
      "H: 300, E: 300, L: 2, datasize: 10000, CV_i: 2\n"
     ]
    },
    {
     "data": {
      "application/vnd.jupyter.widget-view+json": {
       "model_id": "aaa1e79c575b4f0f873996eb34fd1a3a",
       "version_major": 2,
       "version_minor": 0
      },
      "text/plain": [
       "HBox(children=(IntProgress(value=0, max=15), HTML(value='')))"
      ]
     },
     "metadata": {},
     "output_type": "display_data"
    },
    {
     "name": "stdout",
     "output_type": "stream",
     "text": [
      "=== Epoch  0  === 10:01:24\n"
     ]
    },
    {
     "data": {
      "application/vnd.jupyter.widget-view+json": {
       "model_id": "30e3ed6dd20e490dbff303c1dafe2fbf",
       "version_major": 2,
       "version_minor": 0
      },
      "text/plain": [
       "HBox(children=(IntProgress(value=0, max=751), HTML(value='')))"
      ]
     },
     "metadata": {},
     "output_type": "display_data"
    },
    {
     "name": "stdout",
     "output_type": "stream",
     "text": [
      "Training results:\n",
      "precision:  0.6  - recall:  0.6  - accuracy:  0.603  - f-score:  0.6\n",
      "Development results:\n",
      "precision:  0.66  - recall:  0.36  - accuracy:  0.583  - f-score:  0.466\n",
      "=== Epoch  1  === 10:05:48\n"
     ]
    },
    {
     "data": {
      "application/vnd.jupyter.widget-view+json": {
       "model_id": "e47661d8012346cf86906bf09aede6de",
       "version_major": 2,
       "version_minor": 0
      },
      "text/plain": [
       "HBox(children=(IntProgress(value=0, max=751), HTML(value='')))"
      ]
     },
     "metadata": {},
     "output_type": "display_data"
    },
    {
     "name": "stdout",
     "output_type": "stream",
     "text": [
      "Training results:\n",
      "precision:  0.74  - recall:  0.74  - accuracy:  0.744  - f-score:  0.744\n",
      "Development results:\n",
      "precision:  0.63  - recall:  0.88  - accuracy:  0.681  - f-score:  0.735\n",
      "################# NEW BEST #################\n",
      "=== Epoch  2  === 10:10:12\n"
     ]
    },
    {
     "data": {
      "application/vnd.jupyter.widget-view+json": {
       "model_id": "bedad806947944f3b4d9f937e9e6f66b",
       "version_major": 2,
       "version_minor": 0
      },
      "text/plain": [
       "HBox(children=(IntProgress(value=0, max=751), HTML(value='')))"
      ]
     },
     "metadata": {},
     "output_type": "display_data"
    },
    {
     "name": "stdout",
     "output_type": "stream",
     "text": [
      "Training results:\n",
      "precision:  0.87  - recall:  0.88  - accuracy:  0.873  - f-score:  0.874\n",
      "Development results:\n",
      "precision:  0.77  - recall:  0.7  - accuracy:  0.745  - f-score:  0.736\n",
      "################# NEW BEST #################\n",
      "=== Epoch  3  === 10:14:37\n"
     ]
    },
    {
     "data": {
      "application/vnd.jupyter.widget-view+json": {
       "model_id": "b6f351af8d9e46c68ed0e6fde2d6bf81",
       "version_major": 2,
       "version_minor": 0
      },
      "text/plain": [
       "HBox(children=(IntProgress(value=0, max=751), HTML(value='')))"
      ]
     },
     "metadata": {},
     "output_type": "display_data"
    },
    {
     "name": "stdout",
     "output_type": "stream",
     "text": [
      "Training results:\n",
      "precision:  0.93  - recall:  0.94  - accuracy:  0.936  - f-score:  0.936\n",
      "Development results:\n",
      "precision:  0.79  - recall:  0.61  - accuracy:  0.719  - f-score:  0.685\n",
      "=== Epoch  4  === 10:19:02\n"
     ]
    },
    {
     "data": {
      "application/vnd.jupyter.widget-view+json": {
       "model_id": "bbfed4d853d444d9922e5cd1ee5210b5",
       "version_major": 2,
       "version_minor": 0
      },
      "text/plain": [
       "HBox(children=(IntProgress(value=0, max=751), HTML(value='')))"
      ]
     },
     "metadata": {},
     "output_type": "display_data"
    },
    {
     "name": "stdout",
     "output_type": "stream",
     "text": [
      "Training results:\n",
      "precision:  0.98  - recall:  0.98  - accuracy:  0.977  - f-score:  0.977\n",
      "Development results:\n",
      "precision:  0.8  - recall:  0.7  - accuracy:  0.761  - f-score:  0.746\n",
      "################# NEW BEST #################\n",
      "=== Epoch  5  === 10:23:27\n"
     ]
    },
    {
     "data": {
      "application/vnd.jupyter.widget-view+json": {
       "model_id": "97127862be5443aea382f1908345ae3e",
       "version_major": 2,
       "version_minor": 0
      },
      "text/plain": [
       "HBox(children=(IntProgress(value=0, max=751), HTML(value='')))"
      ]
     },
     "metadata": {},
     "output_type": "display_data"
    },
    {
     "name": "stdout",
     "output_type": "stream",
     "text": [
      "Training results:\n",
      "precision:  0.99  - recall:  0.99  - accuracy:  0.99  - f-score:  0.99\n",
      "Development results:\n",
      "precision:  0.77  - recall:  0.76  - accuracy:  0.763  - f-score:  0.764\n",
      "################# NEW BEST #################\n",
      "=== Epoch  6  === 10:27:54\n"
     ]
    },
    {
     "data": {
      "application/vnd.jupyter.widget-view+json": {
       "model_id": "366a9f0499b049e1bd073b9b7477e356",
       "version_major": 2,
       "version_minor": 0
      },
      "text/plain": [
       "HBox(children=(IntProgress(value=0, max=751), HTML(value='')))"
      ]
     },
     "metadata": {},
     "output_type": "display_data"
    },
    {
     "name": "stdout",
     "output_type": "stream",
     "text": [
      "Training results:\n",
      "precision:  0.99  - recall:  0.99  - accuracy:  0.992  - f-score:  0.992\n",
      "Development results:\n",
      "precision:  0.77  - recall:  0.72  - accuracy:  0.752  - f-score:  0.745\n",
      "=== Epoch  7  === 10:32:20\n"
     ]
    },
    {
     "data": {
      "application/vnd.jupyter.widget-view+json": {
       "model_id": "022c7ee14999441f9d1ea4be3798838f",
       "version_major": 2,
       "version_minor": 0
      },
      "text/plain": [
       "HBox(children=(IntProgress(value=0, max=751), HTML(value='')))"
      ]
     },
     "metadata": {},
     "output_type": "display_data"
    },
    {
     "name": "stdout",
     "output_type": "stream",
     "text": [
      "Training results:\n",
      "precision:  1.0  - recall:  1.0  - accuracy:  0.996  - f-score:  0.996\n",
      "Development results:\n",
      "precision:  0.73  - recall:  0.82  - accuracy:  0.759  - f-score:  0.774\n",
      "################# NEW BEST #################\n",
      "=== Epoch  8  === 10:36:45\n"
     ]
    },
    {
     "data": {
      "application/vnd.jupyter.widget-view+json": {
       "model_id": "fc226517aa6a48d2bf76c7153cf06f92",
       "version_major": 2,
       "version_minor": 0
      },
      "text/plain": [
       "HBox(children=(IntProgress(value=0, max=751), HTML(value='')))"
      ]
     },
     "metadata": {},
     "output_type": "display_data"
    },
    {
     "name": "stdout",
     "output_type": "stream",
     "text": [
      "Training results:\n",
      "precision:  1.0  - recall:  0.99  - accuracy:  0.995  - f-score:  0.995\n",
      "Development results:\n",
      "precision:  0.77  - recall:  0.74  - accuracy:  0.758  - f-score:  0.756\n",
      "=== Epoch  9  === 10:41:11\n"
     ]
    },
    {
     "data": {
      "application/vnd.jupyter.widget-view+json": {
       "model_id": "f1a2190a281344bd8894a51aa0314631",
       "version_major": 2,
       "version_minor": 0
      },
      "text/plain": [
       "HBox(children=(IntProgress(value=0, max=751), HTML(value='')))"
      ]
     },
     "metadata": {},
     "output_type": "display_data"
    },
    {
     "name": "stdout",
     "output_type": "stream",
     "text": [
      "Training results:\n",
      "precision:  0.99  - recall:  0.99  - accuracy:  0.992  - f-score:  0.992\n",
      "Development results:\n",
      "precision:  0.77  - recall:  0.76  - accuracy:  0.763  - f-score:  0.764\n",
      "=== Epoch  10  === 10:45:31\n"
     ]
    },
    {
     "data": {
      "application/vnd.jupyter.widget-view+json": {
       "model_id": "fe1e2c0792d5459a8ab7d19a6ac41dbd",
       "version_major": 2,
       "version_minor": 0
      },
      "text/plain": [
       "HBox(children=(IntProgress(value=0, max=751), HTML(value='')))"
      ]
     },
     "metadata": {},
     "output_type": "display_data"
    },
    {
     "name": "stdout",
     "output_type": "stream",
     "text": [
      "Training results:\n",
      "precision:  1.0  - recall:  1.0  - accuracy:  0.999  - f-score:  0.999\n",
      "Development results:\n",
      "precision:  0.75  - recall:  0.79  - accuracy:  0.761  - f-score:  0.768\n",
      "=== Epoch  11  === 10:49:57\n"
     ]
    },
    {
     "data": {
      "application/vnd.jupyter.widget-view+json": {
       "model_id": "d1ad7227119b42e4ae15bcb20bb82b45",
       "version_major": 2,
       "version_minor": 0
      },
      "text/plain": [
       "HBox(children=(IntProgress(value=0, max=751), HTML(value='')))"
      ]
     },
     "metadata": {},
     "output_type": "display_data"
    },
    {
     "name": "stdout",
     "output_type": "stream",
     "text": [
      "Training results:\n",
      "precision:  1.0  - recall:  1.0  - accuracy:  1.0  - f-score:  1.0\n",
      "Development results:\n",
      "precision:  0.75  - recall:  0.79  - accuracy:  0.763  - f-score:  0.771\n",
      "=== Epoch  12  === 10:54:24\n"
     ]
    },
    {
     "data": {
      "application/vnd.jupyter.widget-view+json": {
       "model_id": "44d6599c5bc94354aede6961b21b2e5d",
       "version_major": 2,
       "version_minor": 0
      },
      "text/plain": [
       "HBox(children=(IntProgress(value=0, max=751), HTML(value='')))"
      ]
     },
     "metadata": {},
     "output_type": "display_data"
    },
    {
     "name": "stdout",
     "output_type": "stream",
     "text": [
      "Training results:\n",
      "precision:  1.0  - recall:  1.0  - accuracy:  1.0  - f-score:  1.0\n",
      "Development results:\n",
      "precision:  0.77  - recall:  0.76  - accuracy:  0.763  - f-score:  0.763\n",
      "Not enough f-score improvement, stopping.\n",
      "0.774  is larger than  [0.763, 0.771, 0.768, 0.764, 0.756]\n",
      "Try with BS:  12\n",
      "H: 300, E: 300, L: 2, datasize: 10000, CV_i: 3\n"
     ]
    },
    {
     "data": {
      "application/vnd.jupyter.widget-view+json": {
       "model_id": "70a67d4f664c45d3b21ad8c92a48ee9b",
       "version_major": 2,
       "version_minor": 0
      },
      "text/plain": [
       "HBox(children=(IntProgress(value=0, max=15), HTML(value='')))"
      ]
     },
     "metadata": {},
     "output_type": "display_data"
    },
    {
     "name": "stdout",
     "output_type": "stream",
     "text": [
      "=== Epoch  0  === 10:58:51\n"
     ]
    },
    {
     "data": {
      "application/vnd.jupyter.widget-view+json": {
       "model_id": "698e5c70a8484ab1971b334b06297c27",
       "version_major": 2,
       "version_minor": 0
      },
      "text/plain": [
       "HBox(children=(IntProgress(value=0, max=751), HTML(value='')))"
      ]
     },
     "metadata": {},
     "output_type": "display_data"
    },
    {
     "name": "stdout",
     "output_type": "stream",
     "text": [
      "Training results:\n",
      "precision:  0.56  - recall:  0.57  - accuracy:  0.56  - f-score:  0.564\n",
      "Development results:\n",
      "precision:  0.72  - recall:  0.31  - accuracy:  0.588  - f-score:  0.433\n",
      "=== Epoch  1  === 11:03:19\n"
     ]
    },
    {
     "data": {
      "application/vnd.jupyter.widget-view+json": {
       "model_id": "aec4ecbd2891473aa5432b707dbb4437",
       "version_major": 2,
       "version_minor": 0
      },
      "text/plain": [
       "HBox(children=(IntProgress(value=0, max=751), HTML(value='')))"
      ]
     },
     "metadata": {},
     "output_type": "display_data"
    },
    {
     "name": "stdout",
     "output_type": "stream",
     "text": [
      "Training results:\n",
      "precision:  0.64  - recall:  0.67  - accuracy:  0.651  - f-score:  0.658\n",
      "Development results:\n",
      "precision:  0.67  - recall:  0.41  - accuracy:  0.6  - f-score:  0.509\n",
      "################# NEW BEST #################\n",
      "=== Epoch  2  === 11:07:47\n"
     ]
    },
    {
     "data": {
      "application/vnd.jupyter.widget-view+json": {
       "model_id": "7211474ea4614860ac72e0f105b5c089",
       "version_major": 2,
       "version_minor": 0
      },
      "text/plain": [
       "HBox(children=(IntProgress(value=0, max=751), HTML(value='')))"
      ]
     },
     "metadata": {},
     "output_type": "display_data"
    },
    {
     "name": "stdout",
     "output_type": "stream",
     "text": [
      "Training results:\n",
      "precision:  0.8  - recall:  0.81  - accuracy:  0.803  - f-score:  0.804\n",
      "Development results:\n",
      "precision:  0.83  - recall:  0.83  - accuracy:  0.824  - f-score:  0.827\n",
      "################# NEW BEST #################\n",
      "=== Epoch  3  === 11:12:13\n"
     ]
    },
    {
     "data": {
      "application/vnd.jupyter.widget-view+json": {
       "model_id": "c8dc8be5297a4efc962b38adddeea537",
       "version_major": 2,
       "version_minor": 0
      },
      "text/plain": [
       "HBox(children=(IntProgress(value=0, max=751), HTML(value='')))"
      ]
     },
     "metadata": {},
     "output_type": "display_data"
    },
    {
     "name": "stdout",
     "output_type": "stream",
     "text": [
      "Training results:\n",
      "precision:  0.91  - recall:  0.91  - accuracy:  0.913  - f-score:  0.913\n",
      "Development results:\n",
      "precision:  0.75  - recall:  0.91  - accuracy:  0.802  - f-score:  0.823\n",
      "=== Epoch  4  === 11:16:42\n"
     ]
    },
    {
     "data": {
      "application/vnd.jupyter.widget-view+json": {
       "model_id": "a8c75d4dc41a4ce9a4b7553d0260f27b",
       "version_major": 2,
       "version_minor": 0
      },
      "text/plain": [
       "HBox(children=(IntProgress(value=0, max=751), HTML(value='')))"
      ]
     },
     "metadata": {},
     "output_type": "display_data"
    },
    {
     "name": "stdout",
     "output_type": "stream",
     "text": [
      "Training results:\n",
      "precision:  0.97  - recall:  0.97  - accuracy:  0.97  - f-score:  0.97\n",
      "Development results:\n",
      "precision:  0.8  - recall:  0.87  - accuracy:  0.824  - f-score:  0.833\n",
      "################# NEW BEST #################\n",
      "=== Epoch  5  === 11:21:08\n"
     ]
    },
    {
     "data": {
      "application/vnd.jupyter.widget-view+json": {
       "model_id": "48c9bdbf9ef64bf09eb0035a77cdcbbf",
       "version_major": 2,
       "version_minor": 0
      },
      "text/plain": [
       "HBox(children=(IntProgress(value=0, max=751), HTML(value='')))"
      ]
     },
     "metadata": {},
     "output_type": "display_data"
    },
    {
     "name": "stdout",
     "output_type": "stream",
     "text": [
      "Training results:\n",
      "precision:  0.99  - recall:  0.98  - accuracy:  0.986  - f-score:  0.986\n",
      "Development results:\n",
      "precision:  0.82  - recall:  0.81  - accuracy:  0.813  - f-score:  0.815\n",
      "=== Epoch  6  === 11:25:35\n"
     ]
    },
    {
     "data": {
      "application/vnd.jupyter.widget-view+json": {
       "model_id": "9350e53011c8429a9122b71031853cd8",
       "version_major": 2,
       "version_minor": 0
      },
      "text/plain": [
       "HBox(children=(IntProgress(value=0, max=751), HTML(value='')))"
      ]
     },
     "metadata": {},
     "output_type": "display_data"
    },
    {
     "name": "stdout",
     "output_type": "stream",
     "text": [
      "Training results:\n",
      "precision:  0.99  - recall:  0.98  - accuracy:  0.986  - f-score:  0.986\n",
      "Development results:\n",
      "precision:  0.85  - recall:  0.8  - accuracy:  0.826  - f-score:  0.823\n",
      "=== Epoch  7  === 11:30:00\n"
     ]
    },
    {
     "data": {
      "application/vnd.jupyter.widget-view+json": {
       "model_id": "8fdf83eb093c49d7b2465d3981f313bd",
       "version_major": 2,
       "version_minor": 0
      },
      "text/plain": [
       "HBox(children=(IntProgress(value=0, max=751), HTML(value='')))"
      ]
     },
     "metadata": {},
     "output_type": "display_data"
    },
    {
     "name": "stdout",
     "output_type": "stream",
     "text": [
      "Training results:\n",
      "precision:  1.0  - recall:  1.0  - accuracy:  0.996  - f-score:  0.996\n",
      "Development results:\n",
      "precision:  0.82  - recall:  0.84  - accuracy:  0.826  - f-score:  0.83\n",
      "=== Epoch  8  === 11:34:26\n"
     ]
    },
    {
     "data": {
      "application/vnd.jupyter.widget-view+json": {
       "model_id": "f10b078d7f83426c979fb032d76773cb",
       "version_major": 2,
       "version_minor": 0
      },
      "text/plain": [
       "HBox(children=(IntProgress(value=0, max=751), HTML(value='')))"
      ]
     },
     "metadata": {},
     "output_type": "display_data"
    },
    {
     "name": "stdout",
     "output_type": "stream",
     "text": [
      "Training results:\n",
      "precision:  1.0  - recall:  1.0  - accuracy:  0.999  - f-score:  0.999\n",
      "Development results:\n",
      "precision:  0.82  - recall:  0.85  - accuracy:  0.827  - f-score:  0.833\n",
      "################# NEW BEST #################\n",
      "=== Epoch  9  === 11:38:53\n"
     ]
    },
    {
     "data": {
      "application/vnd.jupyter.widget-view+json": {
       "model_id": "1e68cc55add347998a6162c1e35cf55f",
       "version_major": 2,
       "version_minor": 0
      },
      "text/plain": [
       "HBox(children=(IntProgress(value=0, max=751), HTML(value='')))"
      ]
     },
     "metadata": {},
     "output_type": "display_data"
    },
    {
     "name": "stdout",
     "output_type": "stream",
     "text": [
      "Training results:\n",
      "precision:  1.0  - recall:  1.0  - accuracy:  0.999  - f-score:  0.999\n",
      "Development results:\n",
      "precision:  0.85  - recall:  0.79  - accuracy:  0.824  - f-score:  0.819\n",
      "Not enough f-score improvement, stopping.\n",
      "0.833  is larger than  [0.819, 0.833, 0.83, 0.823, 0.815]\n",
      "Try with BS:  12\n",
      "H: 300, E: 300, L: 2, datasize: 10000, CV_i: 4\n"
     ]
    },
    {
     "data": {
      "application/vnd.jupyter.widget-view+json": {
       "model_id": "823637ddf2f44676ab3198e0e9b2800f",
       "version_major": 2,
       "version_minor": 0
      },
      "text/plain": [
       "HBox(children=(IntProgress(value=0, max=15), HTML(value='')))"
      ]
     },
     "metadata": {},
     "output_type": "display_data"
    },
    {
     "name": "stdout",
     "output_type": "stream",
     "text": [
      "=== Epoch  0  === 11:43:18\n"
     ]
    },
    {
     "data": {
      "application/vnd.jupyter.widget-view+json": {
       "model_id": "e9d603637804403bb3dcb638cd0b354d",
       "version_major": 2,
       "version_minor": 0
      },
      "text/plain": [
       "HBox(children=(IntProgress(value=0, max=751), HTML(value='')))"
      ]
     },
     "metadata": {},
     "output_type": "display_data"
    },
    {
     "name": "stdout",
     "output_type": "stream",
     "text": [
      "Training results:\n",
      "precision:  0.58  - recall:  0.59  - accuracy:  0.581  - f-score:  0.587\n",
      "Development results:\n",
      "precision:  0.61  - recall:  0.59  - accuracy:  0.619  - f-score:  0.599\n",
      "=== Epoch  1  === 11:47:45\n"
     ]
    },
    {
     "data": {
      "application/vnd.jupyter.widget-view+json": {
       "model_id": "9c3c10124ed54847a8ead5cfb4183f7c",
       "version_major": 2,
       "version_minor": 0
      },
      "text/plain": [
       "HBox(children=(IntProgress(value=0, max=751), HTML(value='')))"
      ]
     },
     "metadata": {},
     "output_type": "display_data"
    },
    {
     "name": "stdout",
     "output_type": "stream",
     "text": [
      "Training results:\n",
      "precision:  0.72  - recall:  0.71  - accuracy:  0.712  - f-score:  0.712\n",
      "Development results:\n",
      "precision:  0.62  - recall:  0.91  - accuracy:  0.685  - f-score:  0.735\n",
      "################# NEW BEST #################\n",
      "=== Epoch  2  === 11:52:14\n"
     ]
    },
    {
     "data": {
      "application/vnd.jupyter.widget-view+json": {
       "model_id": "7e9de8552692401c8bb1cf153fb58cb8",
       "version_major": 2,
       "version_minor": 0
      },
      "text/plain": [
       "HBox(children=(IntProgress(value=0, max=751), HTML(value='')))"
      ]
     },
     "metadata": {},
     "output_type": "display_data"
    },
    {
     "name": "stdout",
     "output_type": "stream",
     "text": [
      "Training results:\n",
      "precision:  0.85  - recall:  0.84  - accuracy:  0.848  - f-score:  0.848\n",
      "Development results:\n",
      "precision:  0.8  - recall:  0.89  - accuracy:  0.84  - f-score:  0.843\n",
      "################# NEW BEST #################\n",
      "=== Epoch  3  === 11:56:40\n"
     ]
    },
    {
     "data": {
      "application/vnd.jupyter.widget-view+json": {
       "model_id": "93c5d3be274a4ee89e9f14ca113e617e",
       "version_major": 2,
       "version_minor": 0
      },
      "text/plain": [
       "HBox(children=(IntProgress(value=0, max=751), HTML(value='')))"
      ]
     },
     "metadata": {},
     "output_type": "display_data"
    },
    {
     "name": "stdout",
     "output_type": "stream",
     "text": [
      "Training results:\n",
      "precision:  0.93  - recall:  0.93  - accuracy:  0.933  - f-score:  0.933\n",
      "Development results:\n",
      "precision:  0.75  - recall:  0.93  - accuracy:  0.821  - f-score:  0.833\n",
      "=== Epoch  4  === 12:01:07\n"
     ]
    },
    {
     "data": {
      "application/vnd.jupyter.widget-view+json": {
       "model_id": "9464c494904d445ab78650f4a4464319",
       "version_major": 2,
       "version_minor": 0
      },
      "text/plain": [
       "HBox(children=(IntProgress(value=0, max=751), HTML(value='')))"
      ]
     },
     "metadata": {},
     "output_type": "display_data"
    },
    {
     "name": "stdout",
     "output_type": "stream",
     "text": [
      "Training results:\n",
      "precision:  0.98  - recall:  0.98  - accuracy:  0.976  - f-score:  0.977\n",
      "Development results:\n",
      "precision:  0.8  - recall:  0.88  - accuracy:  0.837  - f-score:  0.837\n",
      "=== Epoch  5  === 12:05:30\n"
     ]
    },
    {
     "data": {
      "application/vnd.jupyter.widget-view+json": {
       "model_id": "85957709c4d14f87bd41b35f9cb11ba7",
       "version_major": 2,
       "version_minor": 0
      },
      "text/plain": [
       "HBox(children=(IntProgress(value=0, max=751), HTML(value='')))"
      ]
     },
     "metadata": {},
     "output_type": "display_data"
    },
    {
     "name": "stdout",
     "output_type": "stream",
     "text": [
      "Training results:\n",
      "precision:  0.98  - recall:  0.99  - accuracy:  0.985  - f-score:  0.986\n",
      "Development results:\n",
      "precision:  0.84  - recall:  0.82  - accuracy:  0.837  - f-score:  0.829\n",
      "=== Epoch  6  === 12:09:53\n"
     ]
    },
    {
     "data": {
      "application/vnd.jupyter.widget-view+json": {
       "model_id": "48ef001ffc5241a9bff5dc874570e0c1",
       "version_major": 2,
       "version_minor": 0
      },
      "text/plain": [
       "HBox(children=(IntProgress(value=0, max=751), HTML(value='')))"
      ]
     },
     "metadata": {},
     "output_type": "display_data"
    },
    {
     "name": "stdout",
     "output_type": "stream",
     "text": [
      "Training results:\n",
      "precision:  0.99  - recall:  0.99  - accuracy:  0.992  - f-score:  0.992\n",
      "Development results:\n",
      "precision:  0.82  - recall:  0.8  - accuracy:  0.819  - f-score:  0.809\n",
      "=== Epoch  7  === 12:14:12\n"
     ]
    },
    {
     "data": {
      "application/vnd.jupyter.widget-view+json": {
       "model_id": "4aaa67e5909d401da0e485f1e0518fb6",
       "version_major": 2,
       "version_minor": 0
      },
      "text/plain": [
       "HBox(children=(IntProgress(value=0, max=751), HTML(value='')))"
      ]
     },
     "metadata": {},
     "output_type": "display_data"
    },
    {
     "name": "stdout",
     "output_type": "stream",
     "text": [
      "Training results:\n",
      "precision:  0.99  - recall:  0.99  - accuracy:  0.994  - f-score:  0.994\n",
      "Development results:\n",
      "precision:  0.78  - recall:  0.85  - accuracy:  0.815  - f-score:  0.816\n",
      "Not enough f-score improvement, stopping.\n",
      "0.843  is larger than  [0.816, 0.809, 0.829, 0.837, 0.833]\n",
      "total len:  18854\n",
      "Try with BS:  14\n",
      "H: 300, E: 300, L: 2, datasize: 15000, CV_i: 0\n"
     ]
    },
    {
     "data": {
      "application/vnd.jupyter.widget-view+json": {
       "model_id": "c8e11e34cc3b47be927aa5b57f6d0579",
       "version_major": 2,
       "version_minor": 0
      },
      "text/plain": [
       "HBox(children=(IntProgress(value=0, max=15), HTML(value='')))"
      ]
     },
     "metadata": {},
     "output_type": "display_data"
    },
    {
     "name": "stdout",
     "output_type": "stream",
     "text": [
      "=== Epoch  0  === 12:18:33\n"
     ]
    },
    {
     "data": {
      "application/vnd.jupyter.widget-view+json": {
       "model_id": "f2d4b078e8124137b753641da1c8144c",
       "version_major": 2,
       "version_minor": 0
      },
      "text/plain": [
       "HBox(children=(IntProgress(value=0, max=965), HTML(value='')))"
      ]
     },
     "metadata": {},
     "output_type": "display_data"
    },
    {
     "name": "stdout",
     "output_type": "stream",
     "text": [
      "That didn't work. Try with BS:  12\n",
      "H: 300, E: 300, L: 2, datasize: 15000, CV_i: 0\n"
     ]
    },
    {
     "data": {
      "application/vnd.jupyter.widget-view+json": {
       "model_id": "6ada3997f0b24ac688156ead157beecf",
       "version_major": 2,
       "version_minor": 0
      },
      "text/plain": [
       "HBox(children=(IntProgress(value=0, max=15), HTML(value='')))"
      ]
     },
     "metadata": {},
     "output_type": "display_data"
    },
    {
     "name": "stdout",
     "output_type": "stream",
     "text": [
      "=== Epoch  0  === 12:21:02\n"
     ]
    },
    {
     "data": {
      "application/vnd.jupyter.widget-view+json": {
       "model_id": "c497eed187ec4b4a9fb150d53d9b5d09",
       "version_major": 2,
       "version_minor": 0
      },
      "text/plain": [
       "HBox(children=(IntProgress(value=0, max=1126), HTML(value='')))"
      ]
     },
     "metadata": {},
     "output_type": "display_data"
    },
    {
     "name": "stdout",
     "output_type": "stream",
     "text": [
      "Training results:\n",
      "precision:  0.58  - recall:  0.57  - accuracy:  0.58  - f-score:  0.576\n",
      "Development results:\n",
      "precision:  0.69  - recall:  0.73  - accuracy:  0.713  - f-score:  0.713\n",
      "=== Epoch  1  === 12:27:33\n"
     ]
    },
    {
     "data": {
      "application/vnd.jupyter.widget-view+json": {
       "model_id": "cb9f2cb05fdf40699486a49e274b6b5a",
       "version_major": 2,
       "version_minor": 0
      },
      "text/plain": [
       "HBox(children=(IntProgress(value=0, max=1126), HTML(value='')))"
      ]
     },
     "metadata": {},
     "output_type": "display_data"
    },
    {
     "name": "stdout",
     "output_type": "stream",
     "text": [
      "Training results:\n",
      "precision:  0.81  - recall:  0.79  - accuracy:  0.798  - f-score:  0.796\n",
      "Development results:\n",
      "precision:  0.77  - recall:  0.94  - accuracy:  0.835  - f-score:  0.848\n",
      "################# NEW BEST #################\n",
      "=== Epoch  2  === 12:34:03\n"
     ]
    },
    {
     "data": {
      "application/vnd.jupyter.widget-view+json": {
       "model_id": "2e45abe113834eeab68eaf9b50da324d",
       "version_major": 2,
       "version_minor": 0
      },
      "text/plain": [
       "HBox(children=(IntProgress(value=0, max=1126), HTML(value='')))"
      ]
     },
     "metadata": {},
     "output_type": "display_data"
    },
    {
     "name": "stdout",
     "output_type": "stream",
     "text": [
      "Training results:\n",
      "precision:  0.9  - recall:  0.92  - accuracy:  0.909  - f-score:  0.91\n",
      "Development results:\n",
      "precision:  0.86  - recall:  0.89  - accuracy:  0.876  - f-score:  0.875\n",
      "################# NEW BEST #################\n",
      "=== Epoch  3  === 12:40:33\n"
     ]
    },
    {
     "data": {
      "application/vnd.jupyter.widget-view+json": {
       "model_id": "90c5f198da34464081ae20aa029f38d9",
       "version_major": 2,
       "version_minor": 0
      },
      "text/plain": [
       "HBox(children=(IntProgress(value=0, max=1126), HTML(value='')))"
      ]
     },
     "metadata": {},
     "output_type": "display_data"
    },
    {
     "name": "stdout",
     "output_type": "stream",
     "text": [
      "Training results:\n",
      "precision:  0.95  - recall:  0.96  - accuracy:  0.956  - f-score:  0.956\n",
      "Development results:\n",
      "precision:  0.86  - recall:  0.87  - accuracy:  0.869  - f-score:  0.866\n",
      "=== Epoch  4  === 12:47:04\n"
     ]
    },
    {
     "data": {
      "application/vnd.jupyter.widget-view+json": {
       "model_id": "bf19b1e27b6043b58cf65ef5c7f0807f",
       "version_major": 2,
       "version_minor": 0
      },
      "text/plain": [
       "HBox(children=(IntProgress(value=0, max=1126), HTML(value='')))"
      ]
     },
     "metadata": {},
     "output_type": "display_data"
    },
    {
     "name": "stdout",
     "output_type": "stream",
     "text": [
      "Training results:\n",
      "precision:  0.98  - recall:  0.98  - accuracy:  0.978  - f-score:  0.978\n",
      "Development results:\n",
      "precision:  0.86  - recall:  0.86  - accuracy:  0.863  - f-score:  0.86\n",
      "=== Epoch  5  === 12:53:35\n"
     ]
    },
    {
     "data": {
      "application/vnd.jupyter.widget-view+json": {
       "model_id": "58f86e52e9b846139a26cc946a77c948",
       "version_major": 2,
       "version_minor": 0
      },
      "text/plain": [
       "HBox(children=(IntProgress(value=0, max=1126), HTML(value='')))"
      ]
     },
     "metadata": {},
     "output_type": "display_data"
    },
    {
     "name": "stdout",
     "output_type": "stream",
     "text": [
      "Training results:\n",
      "precision:  0.99  - recall:  0.99  - accuracy:  0.989  - f-score:  0.989\n",
      "Development results:\n",
      "precision:  0.85  - recall:  0.88  - accuracy:  0.87  - f-score:  0.869\n",
      "=== Epoch  6  === 13:00:05\n"
     ]
    },
    {
     "data": {
      "application/vnd.jupyter.widget-view+json": {
       "model_id": "1663acb4f26b43ebbdd21bbd2541df04",
       "version_major": 2,
       "version_minor": 0
      },
      "text/plain": [
       "HBox(children=(IntProgress(value=0, max=1126), HTML(value='')))"
      ]
     },
     "metadata": {},
     "output_type": "display_data"
    },
    {
     "name": "stdout",
     "output_type": "stream",
     "text": [
      "Training results:\n",
      "precision:  0.99  - recall:  0.99  - accuracy:  0.993  - f-score:  0.993\n",
      "Development results:\n",
      "precision:  0.88  - recall:  0.82  - accuracy:  0.859  - f-score:  0.851\n",
      "=== Epoch  7  === 13:06:35\n"
     ]
    },
    {
     "data": {
      "application/vnd.jupyter.widget-view+json": {
       "model_id": "08d1ec4140ab4fa1947c068022c58db4",
       "version_major": 2,
       "version_minor": 0
      },
      "text/plain": [
       "HBox(children=(IntProgress(value=0, max=1126), HTML(value='')))"
      ]
     },
     "metadata": {},
     "output_type": "display_data"
    },
    {
     "name": "stdout",
     "output_type": "stream",
     "text": [
      "Training results:\n",
      "precision:  0.99  - recall:  0.99  - accuracy:  0.992  - f-score:  0.992\n",
      "Development results:\n",
      "precision:  0.9  - recall:  0.82  - accuracy:  0.867  - f-score:  0.857\n",
      "Not enough f-score improvement, stopping.\n",
      "0.875  is larger than  [0.857, 0.851, 0.869, 0.86, 0.866]\n",
      "Try with BS:  12\n",
      "H: 300, E: 300, L: 2, datasize: 15000, CV_i: 1\n"
     ]
    },
    {
     "data": {
      "application/vnd.jupyter.widget-view+json": {
       "model_id": "0fd55e5698384891a0f012beef404f6f",
       "version_major": 2,
       "version_minor": 0
      },
      "text/plain": [
       "HBox(children=(IntProgress(value=0, max=15), HTML(value='')))"
      ]
     },
     "metadata": {},
     "output_type": "display_data"
    },
    {
     "name": "stdout",
     "output_type": "stream",
     "text": [
      "=== Epoch  0  === 13:13:07\n"
     ]
    },
    {
     "data": {
      "application/vnd.jupyter.widget-view+json": {
       "model_id": "4e2208d703c8434683cd51ac1b428f33",
       "version_major": 2,
       "version_minor": 0
      },
      "text/plain": [
       "HBox(children=(IntProgress(value=0, max=1126), HTML(value='')))"
      ]
     },
     "metadata": {},
     "output_type": "display_data"
    },
    {
     "name": "stdout",
     "output_type": "stream",
     "text": [
      "Training results:\n",
      "precision:  0.57  - recall:  0.56  - accuracy:  0.567  - f-score:  0.562\n",
      "Development results:\n",
      "precision:  0.69  - recall:  0.4  - accuracy:  0.607  - f-score:  0.506\n",
      "=== Epoch  1  === 13:19:37\n"
     ]
    },
    {
     "data": {
      "application/vnd.jupyter.widget-view+json": {
       "model_id": "3076a62b48ab462eab5ee7cd193946ca",
       "version_major": 2,
       "version_minor": 0
      },
      "text/plain": [
       "HBox(children=(IntProgress(value=0, max=1126), HTML(value='')))"
      ]
     },
     "metadata": {},
     "output_type": "display_data"
    },
    {
     "name": "stdout",
     "output_type": "stream",
     "text": [
      "Training results:\n",
      "precision:  0.74  - recall:  0.72  - accuracy:  0.73  - f-score:  0.726\n",
      "Development results:\n",
      "precision:  0.69  - recall:  0.94  - accuracy:  0.753  - f-score:  0.794\n",
      "################# NEW BEST #################\n",
      "=== Epoch  2  === 13:26:07\n"
     ]
    },
    {
     "data": {
      "application/vnd.jupyter.widget-view+json": {
       "model_id": "5c435dc802a743cda789e578f824714c",
       "version_major": 2,
       "version_minor": 0
      },
      "text/plain": [
       "HBox(children=(IntProgress(value=0, max=1126), HTML(value='')))"
      ]
     },
     "metadata": {},
     "output_type": "display_data"
    },
    {
     "name": "stdout",
     "output_type": "stream",
     "text": [
      "Training results:\n",
      "precision:  0.88  - recall:  0.88  - accuracy:  0.878  - f-score:  0.878\n",
      "Development results:\n",
      "precision:  0.82  - recall:  0.77  - accuracy:  0.801  - f-score:  0.796\n",
      "################# NEW BEST #################\n",
      "=== Epoch  3  === 13:32:38\n"
     ]
    },
    {
     "data": {
      "application/vnd.jupyter.widget-view+json": {
       "model_id": "af1621ef86574cc5b076d454c68211a9",
       "version_major": 2,
       "version_minor": 0
      },
      "text/plain": [
       "HBox(children=(IntProgress(value=0, max=1126), HTML(value='')))"
      ]
     },
     "metadata": {},
     "output_type": "display_data"
    },
    {
     "name": "stdout",
     "output_type": "stream",
     "text": [
      "Training results:\n",
      "precision:  0.94  - recall:  0.94  - accuracy:  0.942  - f-score:  0.942\n",
      "Development results:\n",
      "precision:  0.92  - recall:  0.74  - accuracy:  0.835  - f-score:  0.819\n",
      "################# NEW BEST #################\n",
      "=== Epoch  4  === 13:39:09\n"
     ]
    },
    {
     "data": {
      "application/vnd.jupyter.widget-view+json": {
       "model_id": "63209c89e21340a7b5b5a76c3283fa2c",
       "version_major": 2,
       "version_minor": 0
      },
      "text/plain": [
       "HBox(children=(IntProgress(value=0, max=1126), HTML(value='')))"
      ]
     },
     "metadata": {},
     "output_type": "display_data"
    },
    {
     "name": "stdout",
     "output_type": "stream",
     "text": [
      "Training results:\n",
      "precision:  0.98  - recall:  0.98  - accuracy:  0.978  - f-score:  0.978\n",
      "Development results:\n",
      "precision:  0.87  - recall:  0.81  - accuracy:  0.842  - f-score:  0.838\n",
      "################# NEW BEST #################\n",
      "=== Epoch  5  === 13:45:42\n"
     ]
    },
    {
     "data": {
      "application/vnd.jupyter.widget-view+json": {
       "model_id": "962180c6b3a44aa7b19036e5002475e6",
       "version_major": 2,
       "version_minor": 0
      },
      "text/plain": [
       "HBox(children=(IntProgress(value=0, max=1126), HTML(value='')))"
      ]
     },
     "metadata": {},
     "output_type": "display_data"
    },
    {
     "name": "stdout",
     "output_type": "stream",
     "text": [
      "Training results:\n",
      "precision:  0.99  - recall:  0.99  - accuracy:  0.989  - f-score:  0.989\n",
      "Development results:\n",
      "precision:  0.82  - recall:  0.92  - accuracy:  0.856  - f-score:  0.866\n",
      "################# NEW BEST #################\n",
      "=== Epoch  6  === 13:52:18\n"
     ]
    },
    {
     "data": {
      "application/vnd.jupyter.widget-view+json": {
       "model_id": "f2a53e69b4e54bc0bc60ac46d2a1a809",
       "version_major": 2,
       "version_minor": 0
      },
      "text/plain": [
       "HBox(children=(IntProgress(value=0, max=1126), HTML(value='')))"
      ]
     },
     "metadata": {},
     "output_type": "display_data"
    },
    {
     "name": "stdout",
     "output_type": "stream",
     "text": [
      "Training results:\n",
      "precision:  0.99  - recall:  0.99  - accuracy:  0.993  - f-score:  0.993\n",
      "Development results:\n",
      "precision:  0.87  - recall:  0.81  - accuracy:  0.841  - f-score:  0.836\n",
      "=== Epoch  7  === 13:58:51\n"
     ]
    },
    {
     "data": {
      "application/vnd.jupyter.widget-view+json": {
       "model_id": "365839c2220b44ccad4dc25f3aeeede2",
       "version_major": 2,
       "version_minor": 0
      },
      "text/plain": [
       "HBox(children=(IntProgress(value=0, max=1126), HTML(value='')))"
      ]
     },
     "metadata": {},
     "output_type": "display_data"
    },
    {
     "name": "stdout",
     "output_type": "stream",
     "text": [
      "Training results:\n",
      "precision:  1.0  - recall:  1.0  - accuracy:  0.995  - f-score:  0.995\n",
      "Development results:\n",
      "precision:  0.87  - recall:  0.83  - accuracy:  0.849  - f-score:  0.847\n",
      "=== Epoch  8  === 14:05:23\n"
     ]
    },
    {
     "data": {
      "application/vnd.jupyter.widget-view+json": {
       "model_id": "2f0ce1051ea54c538f85c6601f8f0f94",
       "version_major": 2,
       "version_minor": 0
      },
      "text/plain": [
       "HBox(children=(IntProgress(value=0, max=1126), HTML(value='')))"
      ]
     },
     "metadata": {},
     "output_type": "display_data"
    },
    {
     "name": "stdout",
     "output_type": "stream",
     "text": [
      "Training results:\n",
      "precision:  1.0  - recall:  1.0  - accuracy:  0.996  - f-score:  0.996\n",
      "Development results:\n",
      "precision:  0.81  - recall:  0.92  - accuracy:  0.851  - f-score:  0.862\n",
      "=== Epoch  9  === 14:11:56\n"
     ]
    },
    {
     "data": {
      "application/vnd.jupyter.widget-view+json": {
       "model_id": "6196e7f5151d4e35a98700b62c5793f4",
       "version_major": 2,
       "version_minor": 0
      },
      "text/plain": [
       "HBox(children=(IntProgress(value=0, max=1126), HTML(value='')))"
      ]
     },
     "metadata": {},
     "output_type": "display_data"
    },
    {
     "name": "stdout",
     "output_type": "stream",
     "text": [
      "Training results:\n",
      "precision:  0.99  - recall:  1.0  - accuracy:  0.995  - f-score:  0.995\n",
      "Development results:\n",
      "precision:  0.84  - recall:  0.91  - accuracy:  0.866  - f-score:  0.873\n",
      "################# NEW BEST #################\n",
      "=== Epoch  10  === 14:18:39\n"
     ]
    },
    {
     "data": {
      "application/vnd.jupyter.widget-view+json": {
       "model_id": "6286b7cf64a74d0c8c4e233a34942ce9",
       "version_major": 2,
       "version_minor": 0
      },
      "text/plain": [
       "HBox(children=(IntProgress(value=0, max=1126), HTML(value='')))"
      ]
     },
     "metadata": {},
     "output_type": "display_data"
    },
    {
     "name": "stdout",
     "output_type": "stream",
     "text": [
      "Training results:\n",
      "precision:  1.0  - recall:  1.0  - accuracy:  0.997  - f-score:  0.997\n",
      "Development results:\n",
      "precision:  0.84  - recall:  0.91  - accuracy:  0.869  - f-score:  0.875\n",
      "################# NEW BEST #################\n",
      "=== Epoch  11  === 14:25:22\n"
     ]
    },
    {
     "data": {
      "application/vnd.jupyter.widget-view+json": {
       "model_id": "4e428732e96d41b587c0e4d615a79719",
       "version_major": 2,
       "version_minor": 0
      },
      "text/plain": [
       "HBox(children=(IntProgress(value=0, max=1126), HTML(value='')))"
      ]
     },
     "metadata": {},
     "output_type": "display_data"
    },
    {
     "name": "stdout",
     "output_type": "stream",
     "text": [
      "Training results:\n",
      "precision:  1.0  - recall:  1.0  - accuracy:  0.998  - f-score:  0.998\n",
      "Development results:\n",
      "precision:  0.85  - recall:  0.88  - accuracy:  0.858  - f-score:  0.862\n",
      "=== Epoch  12  === 14:32:05\n"
     ]
    },
    {
     "data": {
      "application/vnd.jupyter.widget-view+json": {
       "model_id": "c22d41809de04880a850edf3f4a9cbc9",
       "version_major": 2,
       "version_minor": 0
      },
      "text/plain": [
       "HBox(children=(IntProgress(value=0, max=1126), HTML(value='')))"
      ]
     },
     "metadata": {},
     "output_type": "display_data"
    },
    {
     "name": "stdout",
     "output_type": "stream",
     "text": [
      "Training results:\n",
      "precision:  1.0  - recall:  1.0  - accuracy:  0.998  - f-score:  0.998\n",
      "Development results:\n",
      "precision:  0.87  - recall:  0.87  - accuracy:  0.867  - f-score:  0.868\n",
      "=== Epoch  13  === 14:38:50\n"
     ]
    },
    {
     "data": {
      "application/vnd.jupyter.widget-view+json": {
       "model_id": "f2e9e313090243fa9e00f83d7c591d30",
       "version_major": 2,
       "version_minor": 0
      },
      "text/plain": [
       "HBox(children=(IntProgress(value=0, max=1126), HTML(value='')))"
      ]
     },
     "metadata": {},
     "output_type": "display_data"
    },
    {
     "name": "stdout",
     "output_type": "stream",
     "text": [
      "Training results:\n",
      "precision:  1.0  - recall:  1.0  - accuracy:  0.996  - f-score:  0.996\n",
      "Development results:\n",
      "precision:  0.85  - recall:  0.89  - accuracy:  0.864  - f-score:  0.868\n",
      "=== Epoch  14  === 14:45:32\n"
     ]
    },
    {
     "data": {
      "application/vnd.jupyter.widget-view+json": {
       "model_id": "daef1842ab4b472ebe2fd182fda7a002",
       "version_major": 2,
       "version_minor": 0
      },
      "text/plain": [
       "HBox(children=(IntProgress(value=0, max=1126), HTML(value='')))"
      ]
     },
     "metadata": {},
     "output_type": "display_data"
    },
    {
     "name": "stdout",
     "output_type": "stream",
     "text": [
      "Training results:\n",
      "precision:  1.0  - recall:  1.0  - accuracy:  0.998  - f-score:  0.998\n",
      "Development results:\n",
      "precision:  0.84  - recall:  0.81  - accuracy:  0.827  - f-score:  0.824\n",
      "Try with BS:  12\n",
      "H: 300, E: 300, L: 2, datasize: 15000, CV_i: 2\n"
     ]
    },
    {
     "data": {
      "application/vnd.jupyter.widget-view+json": {
       "model_id": "494db0aa75194964aaac410b96d8223e",
       "version_major": 2,
       "version_minor": 0
      },
      "text/plain": [
       "HBox(children=(IntProgress(value=0, max=15), HTML(value='')))"
      ]
     },
     "metadata": {},
     "output_type": "display_data"
    },
    {
     "name": "stdout",
     "output_type": "stream",
     "text": [
      "=== Epoch  0  === 14:52:19\n"
     ]
    },
    {
     "data": {
      "application/vnd.jupyter.widget-view+json": {
       "model_id": "b17a07f0b5854d9ebdd8545a907b2659",
       "version_major": 2,
       "version_minor": 0
      },
      "text/plain": [
       "HBox(children=(IntProgress(value=0, max=1126), HTML(value='')))"
      ]
     },
     "metadata": {},
     "output_type": "display_data"
    },
    {
     "name": "stdout",
     "output_type": "stream",
     "text": [
      "Training results:\n",
      "precision:  0.56  - recall:  0.56  - accuracy:  0.565  - f-score:  0.564\n",
      "Development results:\n",
      "precision:  0.55  - recall:  0.85  - accuracy:  0.577  - f-score:  0.671\n",
      "=== Epoch  1  === 14:59:02\n"
     ]
    },
    {
     "data": {
      "application/vnd.jupyter.widget-view+json": {
       "model_id": "e1090300257e424780fe7ea168dbc7e1",
       "version_major": 2,
       "version_minor": 0
      },
      "text/plain": [
       "HBox(children=(IntProgress(value=0, max=1126), HTML(value='')))"
      ]
     },
     "metadata": {},
     "output_type": "display_data"
    },
    {
     "name": "stdout",
     "output_type": "stream",
     "text": [
      "Training results:\n",
      "precision:  0.78  - recall:  0.79  - accuracy:  0.782  - f-score:  0.783\n",
      "Development results:\n",
      "precision:  0.82  - recall:  0.89  - accuracy:  0.847  - f-score:  0.854\n",
      "################# NEW BEST #################\n",
      "=== Epoch  2  === 15:05:35\n"
     ]
    },
    {
     "data": {
      "application/vnd.jupyter.widget-view+json": {
       "model_id": "a579f0996cae4903b18db12d2701a2e3",
       "version_major": 2,
       "version_minor": 0
      },
      "text/plain": [
       "HBox(children=(IntProgress(value=0, max=1126), HTML(value='')))"
      ]
     },
     "metadata": {},
     "output_type": "display_data"
    },
    {
     "name": "stdout",
     "output_type": "stream",
     "text": [
      "Training results:\n",
      "precision:  0.91  - recall:  0.93  - accuracy:  0.92  - f-score:  0.92\n",
      "Development results:\n",
      "precision:  0.91  - recall:  0.84  - accuracy:  0.878  - f-score:  0.875\n",
      "################# NEW BEST #################\n",
      "=== Epoch  3  === 15:12:15\n"
     ]
    },
    {
     "data": {
      "application/vnd.jupyter.widget-view+json": {
       "model_id": "e5461f84ccb446679ef30de8922ec1fc",
       "version_major": 2,
       "version_minor": 0
      },
      "text/plain": [
       "HBox(children=(IntProgress(value=0, max=1126), HTML(value='')))"
      ]
     },
     "metadata": {},
     "output_type": "display_data"
    },
    {
     "name": "stdout",
     "output_type": "stream",
     "text": [
      "Training results:\n",
      "precision:  0.97  - recall:  0.97  - accuracy:  0.968  - f-score:  0.968\n",
      "Development results:\n",
      "precision:  0.88  - recall:  0.9  - accuracy:  0.885  - f-score:  0.888\n",
      "################# NEW BEST #################\n",
      "=== Epoch  4  === 15:18:56\n"
     ]
    },
    {
     "data": {
      "application/vnd.jupyter.widget-view+json": {
       "model_id": "768e3393e52e4ff0b12a71187b96cb62",
       "version_major": 2,
       "version_minor": 0
      },
      "text/plain": [
       "HBox(children=(IntProgress(value=0, max=1126), HTML(value='')))"
      ]
     },
     "metadata": {},
     "output_type": "display_data"
    },
    {
     "name": "stdout",
     "output_type": "stream",
     "text": [
      "Training results:\n",
      "precision:  0.99  - recall:  0.99  - accuracy:  0.988  - f-score:  0.988\n",
      "Development results:\n",
      "precision:  0.88  - recall:  0.89  - accuracy:  0.886  - f-score:  0.888\n",
      "################# NEW BEST #################\n",
      "=== Epoch  5  === 15:25:38\n"
     ]
    },
    {
     "data": {
      "application/vnd.jupyter.widget-view+json": {
       "model_id": "a0f09874187244ae8a7435ba2a10e3cf",
       "version_major": 2,
       "version_minor": 0
      },
      "text/plain": [
       "HBox(children=(IntProgress(value=0, max=1126), HTML(value='')))"
      ]
     },
     "metadata": {},
     "output_type": "display_data"
    },
    {
     "name": "stdout",
     "output_type": "stream",
     "text": [
      "Training results:\n",
      "precision:  0.99  - recall:  0.99  - accuracy:  0.991  - f-score:  0.991\n",
      "Development results:\n",
      "precision:  0.85  - recall:  0.92  - accuracy:  0.876  - f-score:  0.883\n",
      "=== Epoch  6  === 15:32:14\n"
     ]
    },
    {
     "data": {
      "application/vnd.jupyter.widget-view+json": {
       "model_id": "1ec33d90aeae48bcbed5c70827cc4e88",
       "version_major": 2,
       "version_minor": 0
      },
      "text/plain": [
       "HBox(children=(IntProgress(value=0, max=1126), HTML(value='')))"
      ]
     },
     "metadata": {},
     "output_type": "display_data"
    },
    {
     "name": "stdout",
     "output_type": "stream",
     "text": [
      "Training results:\n",
      "precision:  0.99  - recall:  0.99  - accuracy:  0.993  - f-score:  0.993\n",
      "Development results:\n",
      "precision:  0.9  - recall:  0.86  - accuracy:  0.879  - f-score:  0.878\n",
      "=== Epoch  7  === 15:38:48\n"
     ]
    },
    {
     "data": {
      "application/vnd.jupyter.widget-view+json": {
       "model_id": "2bec89fa009d4c93bdac34d1223b5363",
       "version_major": 2,
       "version_minor": 0
      },
      "text/plain": [
       "HBox(children=(IntProgress(value=0, max=1126), HTML(value='')))"
      ]
     },
     "metadata": {},
     "output_type": "display_data"
    },
    {
     "name": "stdout",
     "output_type": "stream",
     "text": [
      "Training results:\n",
      "precision:  1.0  - recall:  1.0  - accuracy:  0.998  - f-score:  0.998\n",
      "Development results:\n",
      "precision:  0.85  - recall:  0.93  - accuracy:  0.879  - f-score:  0.886\n",
      "=== Epoch  8  === 15:45:21\n"
     ]
    },
    {
     "data": {
      "application/vnd.jupyter.widget-view+json": {
       "model_id": "113ddd8363824e9d81230a87734e6e69",
       "version_major": 2,
       "version_minor": 0
      },
      "text/plain": [
       "HBox(children=(IntProgress(value=0, max=1126), HTML(value='')))"
      ]
     },
     "metadata": {},
     "output_type": "display_data"
    },
    {
     "name": "stdout",
     "output_type": "stream",
     "text": [
      "Training results:\n",
      "precision:  1.0  - recall:  1.0  - accuracy:  0.998  - f-score:  0.998\n",
      "Development results:\n",
      "precision:  0.88  - recall:  0.89  - accuracy:  0.883  - f-score:  0.885\n",
      "Not enough f-score improvement, stopping.\n",
      "0.888  is larger than  [0.885, 0.886, 0.878, 0.883, 0.888]\n",
      "Try with BS:  12\n",
      "H: 300, E: 300, L: 2, datasize: 15000, CV_i: 3\n"
     ]
    },
    {
     "data": {
      "application/vnd.jupyter.widget-view+json": {
       "model_id": "b4724420129b439abea580d5e429d0b1",
       "version_major": 2,
       "version_minor": 0
      },
      "text/plain": [
       "HBox(children=(IntProgress(value=0, max=15), HTML(value='')))"
      ]
     },
     "metadata": {},
     "output_type": "display_data"
    },
    {
     "name": "stdout",
     "output_type": "stream",
     "text": [
      "=== Epoch  0  === 15:51:59\n"
     ]
    },
    {
     "data": {
      "application/vnd.jupyter.widget-view+json": {
       "model_id": "6a450aa61155443a9b8fe056e1d9ca4b",
       "version_major": 2,
       "version_minor": 0
      },
      "text/plain": [
       "HBox(children=(IntProgress(value=0, max=1126), HTML(value='')))"
      ]
     },
     "metadata": {},
     "output_type": "display_data"
    },
    {
     "name": "stdout",
     "output_type": "stream",
     "text": [
      "Training results:\n",
      "precision:  0.61  - recall:  0.64  - accuracy:  0.613  - f-score:  0.624\n",
      "Development results:\n",
      "precision:  0.76  - recall:  0.78  - accuracy:  0.764  - f-score:  0.766\n",
      "=== Epoch  1  === 15:58:32\n"
     ]
    },
    {
     "data": {
      "application/vnd.jupyter.widget-view+json": {
       "model_id": "2d7eb707b1e04d5cb1a0dae5014df9da",
       "version_major": 2,
       "version_minor": 0
      },
      "text/plain": [
       "HBox(children=(IntProgress(value=0, max=1126), HTML(value='')))"
      ]
     },
     "metadata": {},
     "output_type": "display_data"
    },
    {
     "name": "stdout",
     "output_type": "stream",
     "text": [
      "Training results:\n",
      "precision:  0.84  - recall:  0.82  - accuracy:  0.833  - f-score:  0.832\n",
      "Development results:\n",
      "precision:  0.91  - recall:  0.86  - accuracy:  0.885  - f-score:  0.881\n",
      "################# NEW BEST #################\n",
      "=== Epoch  2  === 16:05:08\n"
     ]
    },
    {
     "data": {
      "application/vnd.jupyter.widget-view+json": {
       "model_id": "a7e57e8d79d442e6809bc65d1310e616",
       "version_major": 2,
       "version_minor": 0
      },
      "text/plain": [
       "HBox(children=(IntProgress(value=0, max=1126), HTML(value='')))"
      ]
     },
     "metadata": {},
     "output_type": "display_data"
    },
    {
     "name": "stdout",
     "output_type": "stream",
     "text": [
      "Training results:\n",
      "precision:  0.93  - recall:  0.93  - accuracy:  0.926  - f-score:  0.926\n",
      "Development results:\n",
      "precision:  0.84  - recall:  0.93  - accuracy:  0.878  - f-score:  0.884\n",
      "################# NEW BEST #################\n",
      "=== Epoch  3  === 16:11:44\n"
     ]
    },
    {
     "data": {
      "application/vnd.jupyter.widget-view+json": {
       "model_id": "8241c6eaa3ab4ae6961bd864d29a9d9b",
       "version_major": 2,
       "version_minor": 0
      },
      "text/plain": [
       "HBox(children=(IntProgress(value=0, max=1126), HTML(value='')))"
      ]
     },
     "metadata": {},
     "output_type": "display_data"
    },
    {
     "name": "stdout",
     "output_type": "stream",
     "text": [
      "Training results:\n",
      "precision:  0.96  - recall:  0.97  - accuracy:  0.961  - f-score:  0.961\n",
      "Development results:\n",
      "precision:  0.92  - recall:  0.82  - accuracy:  0.879  - f-score:  0.872\n",
      "=== Epoch  4  === 16:18:18\n"
     ]
    },
    {
     "data": {
      "application/vnd.jupyter.widget-view+json": {
       "model_id": "b0bb90427eb84a79bfa2598be4fac627",
       "version_major": 2,
       "version_minor": 0
      },
      "text/plain": [
       "HBox(children=(IntProgress(value=0, max=1126), HTML(value='')))"
      ]
     },
     "metadata": {},
     "output_type": "display_data"
    },
    {
     "name": "stdout",
     "output_type": "stream",
     "text": [
      "Training results:\n",
      "precision:  0.99  - recall:  0.99  - accuracy:  0.989  - f-score:  0.989\n",
      "Development results:\n",
      "precision:  0.92  - recall:  0.84  - accuracy:  0.883  - f-score:  0.877\n",
      "=== Epoch  5  === 16:24:55\n"
     ]
    },
    {
     "data": {
      "application/vnd.jupyter.widget-view+json": {
       "model_id": "90f71f12b342492d948ace66cee820af",
       "version_major": 2,
       "version_minor": 0
      },
      "text/plain": [
       "HBox(children=(IntProgress(value=0, max=1126), HTML(value='')))"
      ]
     },
     "metadata": {},
     "output_type": "display_data"
    },
    {
     "name": "stdout",
     "output_type": "stream",
     "text": [
      "Training results:\n",
      "precision:  0.99  - recall:  0.99  - accuracy:  0.993  - f-score:  0.993\n",
      "Development results:\n",
      "precision:  0.91  - recall:  0.8  - accuracy:  0.861  - f-score:  0.852\n",
      "=== Epoch  6  === 16:31:29\n"
     ]
    },
    {
     "data": {
      "application/vnd.jupyter.widget-view+json": {
       "model_id": "abf14486743f43da9ebd74d3b67c3911",
       "version_major": 2,
       "version_minor": 0
      },
      "text/plain": [
       "HBox(children=(IntProgress(value=0, max=1126), HTML(value='')))"
      ]
     },
     "metadata": {},
     "output_type": "display_data"
    },
    {
     "name": "stdout",
     "output_type": "stream",
     "text": [
      "Training results:\n",
      "precision:  0.99  - recall:  0.99  - accuracy:  0.991  - f-score:  0.991\n",
      "Development results:\n",
      "precision:  0.86  - recall:  0.9  - accuracy:  0.879  - f-score:  0.881\n",
      "=== Epoch  7  === 16:38:07\n"
     ]
    },
    {
     "data": {
      "application/vnd.jupyter.widget-view+json": {
       "model_id": "29206269829d4d2e9103687deb869257",
       "version_major": 2,
       "version_minor": 0
      },
      "text/plain": [
       "HBox(children=(IntProgress(value=0, max=1126), HTML(value='')))"
      ]
     },
     "metadata": {},
     "output_type": "display_data"
    },
    {
     "name": "stdout",
     "output_type": "stream",
     "text": [
      "Training results:\n",
      "precision:  1.0  - recall:  1.0  - accuracy:  0.996  - f-score:  0.996\n",
      "Development results:\n",
      "precision:  0.89  - recall:  0.89  - accuracy:  0.887  - f-score:  0.886\n",
      "################# NEW BEST #################\n",
      "=== Epoch  8  === 16:44:45\n"
     ]
    },
    {
     "data": {
      "application/vnd.jupyter.widget-view+json": {
       "model_id": "fa7b50af6d90459da6533e89020cc15d",
       "version_major": 2,
       "version_minor": 0
      },
      "text/plain": [
       "HBox(children=(IntProgress(value=0, max=1126), HTML(value='')))"
      ]
     },
     "metadata": {},
     "output_type": "display_data"
    },
    {
     "name": "stdout",
     "output_type": "stream",
     "text": [
      "Training results:\n",
      "precision:  1.0  - recall:  1.0  - accuracy:  0.997  - f-score:  0.997\n",
      "Development results:\n",
      "precision:  0.94  - recall:  0.7  - accuracy:  0.832  - f-score:  0.807\n",
      "=== Epoch  9  === 16:51:15\n"
     ]
    },
    {
     "data": {
      "application/vnd.jupyter.widget-view+json": {
       "model_id": "38888e7125fe4def89503e401de6ae64",
       "version_major": 2,
       "version_minor": 0
      },
      "text/plain": [
       "HBox(children=(IntProgress(value=0, max=1126), HTML(value='')))"
      ]
     },
     "metadata": {},
     "output_type": "display_data"
    },
    {
     "name": "stdout",
     "output_type": "stream",
     "text": [
      "Training results:\n",
      "precision:  1.0  - recall:  1.0  - accuracy:  0.999  - f-score:  0.999\n",
      "Development results:\n",
      "precision:  0.89  - recall:  0.89  - accuracy:  0.893  - f-score:  0.892\n",
      "################# NEW BEST #################\n",
      "=== Epoch  10  === 16:57:45\n"
     ]
    },
    {
     "data": {
      "application/vnd.jupyter.widget-view+json": {
       "model_id": "83a186c1b0d84c87b73868f427ac8c1d",
       "version_major": 2,
       "version_minor": 0
      },
      "text/plain": [
       "HBox(children=(IntProgress(value=0, max=1126), HTML(value='')))"
      ]
     },
     "metadata": {},
     "output_type": "display_data"
    },
    {
     "name": "stdout",
     "output_type": "stream",
     "text": [
      "Training results:\n",
      "precision:  1.0  - recall:  1.0  - accuracy:  0.996  - f-score:  0.996\n",
      "Development results:\n",
      "precision:  0.88  - recall:  0.88  - accuracy:  0.879  - f-score:  0.878\n",
      "=== Epoch  11  === 17:04:14\n"
     ]
    },
    {
     "data": {
      "application/vnd.jupyter.widget-view+json": {
       "model_id": "5befaadbe33b4e6db36a2848c38cc60a",
       "version_major": 2,
       "version_minor": 0
      },
      "text/plain": [
       "HBox(children=(IntProgress(value=0, max=1126), HTML(value='')))"
      ]
     },
     "metadata": {},
     "output_type": "display_data"
    },
    {
     "name": "stdout",
     "output_type": "stream",
     "text": [
      "Training results:\n",
      "precision:  1.0  - recall:  1.0  - accuracy:  0.999  - f-score:  0.999\n",
      "Development results:\n",
      "precision:  0.81  - recall:  0.92  - accuracy:  0.853  - f-score:  0.862\n",
      "=== Epoch  12  === 17:10:43\n"
     ]
    },
    {
     "data": {
      "application/vnd.jupyter.widget-view+json": {
       "model_id": "539baf349ded438dac49a0b4d8fd5544",
       "version_major": 2,
       "version_minor": 0
      },
      "text/plain": [
       "HBox(children=(IntProgress(value=0, max=1126), HTML(value='')))"
      ]
     },
     "metadata": {},
     "output_type": "display_data"
    },
    {
     "name": "stdout",
     "output_type": "stream",
     "text": [
      "Training results:\n",
      "precision:  1.0  - recall:  1.0  - accuracy:  0.998  - f-score:  0.998\n",
      "Development results:\n",
      "precision:  0.86  - recall:  0.88  - accuracy:  0.868  - f-score:  0.869\n",
      "=== Epoch  13  === 17:17:18\n"
     ]
    },
    {
     "data": {
      "application/vnd.jupyter.widget-view+json": {
       "model_id": "a1590aad610d40af9ec5e05e04954533",
       "version_major": 2,
       "version_minor": 0
      },
      "text/plain": [
       "HBox(children=(IntProgress(value=0, max=1126), HTML(value='')))"
      ]
     },
     "metadata": {},
     "output_type": "display_data"
    },
    {
     "name": "stdout",
     "output_type": "stream",
     "text": [
      "Training results:\n",
      "precision:  1.0  - recall:  1.0  - accuracy:  0.997  - f-score:  0.997\n",
      "Development results:\n",
      "precision:  0.88  - recall:  0.89  - accuracy:  0.886  - f-score:  0.886\n",
      "=== Epoch  14  === 17:23:56\n"
     ]
    },
    {
     "data": {
      "application/vnd.jupyter.widget-view+json": {
       "model_id": "ed8cf412239f4af09a7b82d4058288e4",
       "version_major": 2,
       "version_minor": 0
      },
      "text/plain": [
       "HBox(children=(IntProgress(value=0, max=1126), HTML(value='')))"
      ]
     },
     "metadata": {},
     "output_type": "display_data"
    },
    {
     "name": "stdout",
     "output_type": "stream",
     "text": [
      "Training results:\n",
      "precision:  1.0  - recall:  1.0  - accuracy:  1.0  - f-score:  1.0\n",
      "Development results:\n",
      "precision:  0.89  - recall:  0.88  - accuracy:  0.887  - f-score:  0.886\n",
      "Not enough f-score improvement, stopping.\n",
      "0.892  is larger than  [0.886, 0.886, 0.869, 0.862, 0.878]\n",
      "Try with BS:  12\n",
      "H: 300, E: 300, L: 2, datasize: 15000, CV_i: 4\n"
     ]
    },
    {
     "data": {
      "application/vnd.jupyter.widget-view+json": {
       "model_id": "ee53cc3bdb8c4b65aa79a2858fac9b48",
       "version_major": 2,
       "version_minor": 0
      },
      "text/plain": [
       "HBox(children=(IntProgress(value=0, max=15), HTML(value='')))"
      ]
     },
     "metadata": {},
     "output_type": "display_data"
    },
    {
     "name": "stdout",
     "output_type": "stream",
     "text": [
      "=== Epoch  0  === 17:30:34\n"
     ]
    },
    {
     "data": {
      "application/vnd.jupyter.widget-view+json": {
       "model_id": "05c33c27d6ba48b28638fa2371909305",
       "version_major": 2,
       "version_minor": 0
      },
      "text/plain": [
       "HBox(children=(IntProgress(value=0, max=1126), HTML(value='')))"
      ]
     },
     "metadata": {},
     "output_type": "display_data"
    },
    {
     "name": "stdout",
     "output_type": "stream",
     "text": [
      "Training results:\n",
      "precision:  0.6  - recall:  0.62  - accuracy:  0.597  - f-score:  0.61\n",
      "Development results:\n",
      "precision:  0.67  - recall:  0.64  - accuracy:  0.684  - f-score:  0.659\n",
      "=== Epoch  1  === 17:37:14\n"
     ]
    },
    {
     "data": {
      "application/vnd.jupyter.widget-view+json": {
       "model_id": "f41c69a626fa42d2a53d6d2f787395a0",
       "version_major": 2,
       "version_minor": 0
      },
      "text/plain": [
       "HBox(children=(IntProgress(value=0, max=1126), HTML(value='')))"
      ]
     },
     "metadata": {},
     "output_type": "display_data"
    },
    {
     "name": "stdout",
     "output_type": "stream",
     "text": [
      "Training results:\n",
      "precision:  0.79  - recall:  0.79  - accuracy:  0.792  - f-score:  0.794\n",
      "Development results:\n",
      "precision:  0.8  - recall:  0.9  - accuracy:  0.845  - f-score:  0.847\n",
      "################# NEW BEST #################\n",
      "=== Epoch  2  === 17:43:52\n"
     ]
    },
    {
     "data": {
      "application/vnd.jupyter.widget-view+json": {
       "model_id": "e708160f5e8e40b5aaa962fbb75928a2",
       "version_major": 2,
       "version_minor": 0
      },
      "text/plain": [
       "HBox(children=(IntProgress(value=0, max=1126), HTML(value='')))"
      ]
     },
     "metadata": {},
     "output_type": "display_data"
    },
    {
     "name": "stdout",
     "output_type": "stream",
     "text": [
      "Training results:\n",
      "precision:  0.91  - recall:  0.89  - accuracy:  0.9  - f-score:  0.9\n",
      "Development results:\n",
      "precision:  0.93  - recall:  0.73  - accuracy:  0.847  - f-score:  0.819\n",
      "=== Epoch  3  === 17:50:29\n"
     ]
    },
    {
     "data": {
      "application/vnd.jupyter.widget-view+json": {
       "model_id": "3687f790b4f6412f9e0031ba1e734832",
       "version_major": 2,
       "version_minor": 0
      },
      "text/plain": [
       "HBox(children=(IntProgress(value=0, max=1126), HTML(value='')))"
      ]
     },
     "metadata": {},
     "output_type": "display_data"
    },
    {
     "name": "stdout",
     "output_type": "stream",
     "text": [
      "Training results:\n",
      "precision:  0.95  - recall:  0.95  - accuracy:  0.948  - f-score:  0.948\n",
      "Development results:\n",
      "precision:  0.92  - recall:  0.81  - accuracy:  0.874  - f-score:  0.859\n",
      "################# NEW BEST #################\n",
      "=== Epoch  4  === 17:57:08\n"
     ]
    },
    {
     "data": {
      "application/vnd.jupyter.widget-view+json": {
       "model_id": "7588127c38b74101a574dc940886959f",
       "version_major": 2,
       "version_minor": 0
      },
      "text/plain": [
       "HBox(children=(IntProgress(value=0, max=1126), HTML(value='')))"
      ]
     },
     "metadata": {},
     "output_type": "display_data"
    },
    {
     "name": "stdout",
     "output_type": "stream",
     "text": [
      "Training results:\n",
      "precision:  0.98  - recall:  0.98  - accuracy:  0.975  - f-score:  0.975\n",
      "Development results:\n",
      "precision:  0.85  - recall:  0.92  - accuracy:  0.885  - f-score:  0.883\n",
      "################# NEW BEST #################\n",
      "=== Epoch  5  === 18:03:42\n"
     ]
    },
    {
     "data": {
      "application/vnd.jupyter.widget-view+json": {
       "model_id": "b7957604b0db4f9289bbd8842fb274e4",
       "version_major": 2,
       "version_minor": 0
      },
      "text/plain": [
       "HBox(children=(IntProgress(value=0, max=1126), HTML(value='')))"
      ]
     },
     "metadata": {},
     "output_type": "display_data"
    },
    {
     "name": "stdout",
     "output_type": "stream",
     "text": [
      "Training results:\n",
      "precision:  0.99  - recall:  0.99  - accuracy:  0.99  - f-score:  0.99\n",
      "Development results:\n",
      "precision:  0.88  - recall:  0.86  - accuracy:  0.879  - f-score:  0.872\n",
      "=== Epoch  6  === 18:10:16\n"
     ]
    },
    {
     "data": {
      "application/vnd.jupyter.widget-view+json": {
       "model_id": "2069152e01bd4ed7985d9ad0733c5503",
       "version_major": 2,
       "version_minor": 0
      },
      "text/plain": [
       "HBox(children=(IntProgress(value=0, max=1126), HTML(value='')))"
      ]
     },
     "metadata": {},
     "output_type": "display_data"
    },
    {
     "name": "stdout",
     "output_type": "stream",
     "text": [
      "Training results:\n",
      "precision:  0.99  - recall:  0.99  - accuracy:  0.994  - f-score:  0.994\n",
      "Development results:\n",
      "precision:  0.8  - recall:  0.95  - accuracy:  0.865  - f-score:  0.869\n",
      "=== Epoch  7  === 18:16:49\n"
     ]
    },
    {
     "data": {
      "application/vnd.jupyter.widget-view+json": {
       "model_id": "206cf9e984664a3e8af57d7758c50401",
       "version_major": 2,
       "version_minor": 0
      },
      "text/plain": [
       "HBox(children=(IntProgress(value=0, max=1126), HTML(value='')))"
      ]
     },
     "metadata": {},
     "output_type": "display_data"
    },
    {
     "name": "stdout",
     "output_type": "stream",
     "text": [
      "Training results:\n",
      "precision:  0.99  - recall:  0.99  - accuracy:  0.993  - f-score:  0.993\n",
      "Development results:\n",
      "precision:  0.73  - recall:  0.97  - accuracy:  0.812  - f-score:  0.831\n",
      "=== Epoch  8  === 18:23:20\n"
     ]
    },
    {
     "data": {
      "application/vnd.jupyter.widget-view+json": {
       "model_id": "c9173870b91642a4997dede761d48bef",
       "version_major": 2,
       "version_minor": 0
      },
      "text/plain": [
       "HBox(children=(IntProgress(value=0, max=1126), HTML(value='')))"
      ]
     },
     "metadata": {},
     "output_type": "display_data"
    },
    {
     "name": "stdout",
     "output_type": "stream",
     "text": [
      "Training results:\n",
      "precision:  0.99  - recall:  0.99  - accuracy:  0.995  - f-score:  0.995\n",
      "Development results:\n",
      "precision:  0.86  - recall:  0.88  - accuracy:  0.874  - f-score:  0.869\n",
      "=== Epoch  9  === 18:29:52\n"
     ]
    },
    {
     "data": {
      "application/vnd.jupyter.widget-view+json": {
       "model_id": "d3739d72888e4fa5818e522c5b59b0a2",
       "version_major": 2,
       "version_minor": 0
      },
      "text/plain": [
       "HBox(children=(IntProgress(value=0, max=1126), HTML(value='')))"
      ]
     },
     "metadata": {},
     "output_type": "display_data"
    },
    {
     "name": "stdout",
     "output_type": "stream",
     "text": [
      "Training results:\n",
      "precision:  1.0  - recall:  1.0  - accuracy:  0.997  - f-score:  0.997\n",
      "Development results:\n",
      "precision:  0.86  - recall:  0.89  - accuracy:  0.883  - f-score:  0.878\n",
      "Not enough f-score improvement, stopping.\n",
      "0.883  is larger than  [0.878, 0.869, 0.831, 0.869, 0.872]\n"
     ]
    }
   ],
   "source": [
    "def create_model(h,e,l,k,bs = 20,data_amount='all', no_kfold=False,devpct=0.1):\n",
    "    # Create a model with the given parameters, starting with that batch size.\n",
    "    # If the batch size is too large, smaller ones are attempted.\n",
    "    # The models, as well as their metrics, are saved.\n",
    "    shuffled_dataset = shuffle_total_dataset(vectorized_data[\"train\"])\n",
    "    if data_amount != 'all':\n",
    "        shuffled_dataset = get_sample(shuffled_dataset,data_amount)\n",
    "        \n",
    "    if not(no_kfold):\n",
    "        split_dataset = split_kfold(shuffled_dataset,k)\n",
    "        \n",
    "    for current_fold in range(k):\n",
    "        if not(no_kfold):\n",
    "            [training_set, development_set] = get_split(split_dataset,current_fold)\n",
    "        else:\n",
    "            [training_set, development_set] = split_percentage(shuffled_dataset,devpct)\n",
    "            \n",
    "        print(\"Try with BS: \",bs)\n",
    "\n",
    "        while(True): # Keep trying with lower batch sizes\n",
    "            try:\n",
    "                if data_amount != 'all':\n",
    "                    print(f\"H: {h}, E: {e}, L: {l}, datasize: {data_amount}, CV_i: {current_fold}\")\n",
    "                else:\n",
    "                    print(f\"H: {h}, E: {e}, L: {l}, CV_i: {current_fold}\")\n",
    "                classifier = BinaryLSTMClassifier(e, h, VOCAB_SIZE, 1,layers=l)  \n",
    "                [f_scores, a_scores, best_model] = \\\n",
    "                    train(classifier.to(device), training_set, development_set, max_epochs=15, batch_size=bs)\n",
    "                if data_amount != 'all':\n",
    "                    pickle_out = open(\"models/CV-\"+str(h)+\"-\"+str(e)+\"-\"+str(l)+\"-\"+str(data_amount)+\"-\"+str(current_fold)+\".pickle\",\"wb\")\n",
    "                else:\n",
    "                    pickle_out = open(\"models/CV-\"+str(h)+\"-\"+str(e)+\"-\"+str(l)+\"-\"+str(current_fold)+\".pickle\",\"wb\")\n",
    "                pickle.dump(best_model,pickle_out)\n",
    "                pickle_out.close()\n",
    "                if data_amount != 'all':\n",
    "                    pickle_out = open(\"models/metrics/CV-metrics-\"+str(h)+\"-\"+str(e)+\"-\"+str(l)+\"-\"+str(data_amount)+\"-\"+str(current_fold)+\".pickle\",\"wb\")\n",
    "                else:\n",
    "                    pickle_out = open(\"models/metrics/CV-metrics-\"+str(h)+\"-\"+str(e)+\"-\"+str(l)+\"-\"+str(current_fold)+\".pickle\",\"wb\")\n",
    "                pickle.dump([f_scores, a_scores], pickle_out)\n",
    "                pickle_out.close()\n",
    "                break # Do not try again when this batch size leads to a result\n",
    "            except RuntimeError:\n",
    "                #bs -= 1\n",
    "                bs *= 0.9\n",
    "                bs = int(bs)\n",
    "                if bs <= 0:\n",
    "                    print(\"Model too large, BS of 1 too big. Skipping\")\n",
    "                    break\n",
    "                print(\"That didn't work. Try with BS: \",bs)\n",
    "                \n",
    "                \n",
    "# [50,100,150,500,1000,1500,5000,10000,15000]\n",
    "data_amounts = [10000,15000]#\n",
    "for data_size in data_amounts:\n",
    "    create_model(300,300,2,5,bs=14,data_amount=data_size, no_kfold=True,devpct=0.1)\n",
    "                "
   ]
  },
  {
   "cell_type": "code",
   "execution_count": null,
   "metadata": {},
   "outputs": [],
   "source": []
  },
  {
   "cell_type": "code",
   "execution_count": null,
   "metadata": {
    "scrolled": true
   },
   "outputs": [],
   "source": []
  },
  {
   "cell_type": "code",
   "execution_count": null,
   "metadata": {},
   "outputs": [],
   "source": []
  },
  {
   "cell_type": "code",
   "execution_count": null,
   "metadata": {},
   "outputs": [],
   "source": []
  }
 ],
 "metadata": {
  "kernelspec": {
   "display_name": "Python 3",
   "language": "python",
   "name": "python3"
  },
  "language_info": {
   "codemirror_mode": {
    "name": "ipython",
    "version": 3
   },
   "file_extension": ".py",
   "mimetype": "text/x-python",
   "name": "python",
   "nbconvert_exporter": "python",
   "pygments_lexer": "ipython3",
   "version": "3.6.8"
  }
 },
 "nbformat": 4,
 "nbformat_minor": 2
}
